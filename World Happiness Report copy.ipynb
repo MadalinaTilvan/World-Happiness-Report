{
 "cells": [
  {
   "cell_type": "markdown",
   "id": "2f3e4943",
   "metadata": {},
   "source": [
    "<img\n",
    "  src=\"https://images.unsplash.com/photo-1629495025620-26d5f4ada7c2?q=80&w=2896&auto=format&fit=crop&ixlib=rb-4.0.3&ixid=M3wxMjA3fDB8MHxwaG90by1wYWdlfHx8fGVufDB8fHx8fA%3D%3D\"\n",
    "  alt=\"Example\"\n",
    "  style=\"\n",
    "    width: 100%;           /* fill the container’s width */\n",
    "    height: 400px;         /* force a fixed height */\n",
    "    object-fit: cover;     /* scale+crop “inside” the box */\n",
    "    display: block;        /* remove inline whitespace */\n",
    "    margin: 0 auto;        /* center if you set a max-width */\n",
    "  \">"
   ]
  },
  {
   "cell_type": "markdown",
   "id": "f958037c",
   "metadata": {},
   "source": [
    "<h2 align=\"center\" style=\"font-weight: bold; color: #e67e22;\">\n",
    "  CSCN8010 Project – Exploring Global Happiness Through Data\n",
    "</h2>\n"
   ]
  },
  {
   "cell_type": "markdown",
   "id": "96943ebb",
   "metadata": {},
   "source": [
    "**Team 8:**\n",
    "- Ponnu Peter, 9058740\n",
    "- Madalina Tilvan, 9058215"
   ]
  },
  {
   "cell_type": "markdown",
   "id": "45f02749",
   "metadata": {},
   "source": [
    "## Framing the Problem\n",
    "\n",
    "The goal of this project is to build different machine learning models that cna accurately make predictions and estimate a country's happiness score based on socio-economic and political features that might affect that score.\n",
    "\n",
    "To address this problem, we will be exploring the following models:\n",
    "1. Simple Linear Regression\n",
    "2. Multiple Linear Regression\n",
    "3. Random Forest Regression\n",
    "4. Random Forest Classifier\n",
    "5. K-Means\n",
    "6. K-Nearest Neighbors\n",
    "7. Decision Trees\n",
    "\n",
    "### About the dataset\n",
    "The *World Happiness Report* dataset contains features related to happiness, economic, social, and political indicators for different countries across multiple years.\n",
    "\n",
    "**Number of Instances:** 4,000\n",
    "\n",
    "**Number of Attributes:** 24 columns\n",
    "\n",
    "**Timeframe:** 2005-2024\n",
    "\n",
    "**Columns Overview:**\n",
    "\n",
    "- `Country`: Name of the country.\n",
    "\n",
    "- `Year`: The year of the record.\n",
    "\n",
    "- `Happiness_Score`: A numerical value indicating the happiness level.\n",
    "\n",
    "- `GDP_per_Capita`: Economic output per person.\n",
    "\n",
    "- `Social_Support`: Level of social connections and support.\n",
    "\n",
    "- `Healthy_Life_Expectancy`: Average life Expectancy at birth, for both sexes (years).\n",
    "\n",
    "- `Freedom`: Perceived freedom in decision-making.\n",
    "\n",
    "- `Generosity`: A measure of charitable behavior.\n",
    "\n",
    "- `Corruption_Perception`: Perception of corruption in society.\n",
    "\n",
    "- `Unemployment_Rate`: Percentage of unemployed individuals.\n",
    "\n",
    "- `Education_Index`: A measure of education quality.\n",
    "\n",
    "- `Population`: Total population of the country.\n",
    "\n",
    "- `Urbanization_Rate`: Percentage of people living in urban areas.\n",
    "\n",
    "- `Life_Satisfaction`: A subjective measure of well-being.\n",
    "\n",
    "- `Public_Trust`: Confidence in public institutions.\n",
    "\n",
    "- `Mental_Health_Index`: A measure of overall mental health.\n",
    "\n",
    "- `Income_Inequality`: Economic disparity metric.\n",
    "\n",
    "- `Public_Health_Expenditure`: Government spending on health.\n",
    "\n",
    "- `Climate_Index`: A measure of climate conditions.\n",
    "\n",
    "- `Work_Life_Balance`: An index measuring work-life balance.\n",
    "\n",
    "- `Internet_Access`: Percentage of population with internet.\n",
    "\n",
    "- `Crime_Rate`: Reported crime level.\n",
    "\n",
    "- `Political_Stability`: A measure of political security. and absence of violence/terrorism\n",
    "\n",
    "- `Employment_Rate`: Percentage of employed individuals."
   ]
  },
  {
   "cell_type": "code",
   "execution_count": 39,
   "id": "271fcf97",
   "metadata": {},
   "outputs": [],
   "source": [
    "## import libraries\n",
    "import pandas as pd\n",
    "import numpy as np\n",
    "import seaborn as sns\n",
    "import matplotlib.pyplot as plt\n",
    "from sklearn.linear_model import LinearRegression\n",
    "from sklearn.model_selection import train_test_split, cross_val_score, GridSearchCV\n",
    "from sklearn.metrics import mean_absolute_error, mean_absolute_percentage_error, r2_score\n",
    "from sklearn.decomposition import PCA\n",
    "from sklearn.preprocessing import StandardScaler\n",
    "import warnings\n",
    "warnings.filterwarnings(\"ignore\")\n",
    "import plotly.express as px\n",
    "import plotly.graph_objects as go\n",
    "from sklearn.metrics import mean_squared_error, r2_score\n",
    "from sklearn.ensemble import RandomForestClassifier,RandomForestRegressor\n",
    "from sklearn.metrics import classification_report, ConfusionMatrixDisplay\n",
    "from sklearn.metrics import accuracy_score,roc_curve, roc_auc_score\n",
    "from sklearn.tree import DecisionTreeRegressor\n",
    "from imblearn.over_sampling import SMOTE\n",
    "from sklearn.impute import SimpleImputer\n",
    "import geonamescache\n",
    "\n",
    "pd.set_option('display.max_columns', None)"
   ]
  },
  {
   "cell_type": "code",
   "execution_count": 40,
   "id": "5350d116",
   "metadata": {},
   "outputs": [
    {
     "data": {
      "text/html": [
       "<div>\n",
       "<style scoped>\n",
       "    .dataframe tbody tr th:only-of-type {\n",
       "        vertical-align: middle;\n",
       "    }\n",
       "\n",
       "    .dataframe tbody tr th {\n",
       "        vertical-align: top;\n",
       "    }\n",
       "\n",
       "    .dataframe thead th {\n",
       "        text-align: right;\n",
       "    }\n",
       "</style>\n",
       "<table border=\"1\" class=\"dataframe\">\n",
       "  <thead>\n",
       "    <tr style=\"text-align: right;\">\n",
       "      <th></th>\n",
       "      <th>Country</th>\n",
       "      <th>Year</th>\n",
       "      <th>Happiness Score</th>\n",
       "      <th>GDP per Capita</th>\n",
       "      <th>Social Support</th>\n",
       "      <th>Life Expectancy</th>\n",
       "      <th>Freedom</th>\n",
       "      <th>Generosity</th>\n",
       "      <th>Corruption</th>\n",
       "    </tr>\n",
       "  </thead>\n",
       "  <tbody>\n",
       "    <tr>\n",
       "      <th>0</th>\n",
       "      <td>Afghanistan</td>\n",
       "      <td>2008</td>\n",
       "      <td>3.724</td>\n",
       "      <td>7.350</td>\n",
       "      <td>0.451</td>\n",
       "      <td>50.5</td>\n",
       "      <td>0.718</td>\n",
       "      <td>0.168</td>\n",
       "      <td>0.882</td>\n",
       "    </tr>\n",
       "    <tr>\n",
       "      <th>1</th>\n",
       "      <td>Afghanistan</td>\n",
       "      <td>2009</td>\n",
       "      <td>4.402</td>\n",
       "      <td>7.509</td>\n",
       "      <td>0.552</td>\n",
       "      <td>50.8</td>\n",
       "      <td>0.679</td>\n",
       "      <td>0.191</td>\n",
       "      <td>0.850</td>\n",
       "    </tr>\n",
       "    <tr>\n",
       "      <th>2</th>\n",
       "      <td>Afghanistan</td>\n",
       "      <td>2010</td>\n",
       "      <td>4.758</td>\n",
       "      <td>7.614</td>\n",
       "      <td>0.539</td>\n",
       "      <td>51.1</td>\n",
       "      <td>0.600</td>\n",
       "      <td>0.121</td>\n",
       "      <td>0.707</td>\n",
       "    </tr>\n",
       "    <tr>\n",
       "      <th>3</th>\n",
       "      <td>Afghanistan</td>\n",
       "      <td>2011</td>\n",
       "      <td>3.832</td>\n",
       "      <td>7.581</td>\n",
       "      <td>0.521</td>\n",
       "      <td>51.4</td>\n",
       "      <td>0.496</td>\n",
       "      <td>0.164</td>\n",
       "      <td>0.731</td>\n",
       "    </tr>\n",
       "    <tr>\n",
       "      <th>4</th>\n",
       "      <td>Afghanistan</td>\n",
       "      <td>2012</td>\n",
       "      <td>3.783</td>\n",
       "      <td>7.661</td>\n",
       "      <td>0.521</td>\n",
       "      <td>51.7</td>\n",
       "      <td>0.531</td>\n",
       "      <td>0.238</td>\n",
       "      <td>0.776</td>\n",
       "    </tr>\n",
       "  </tbody>\n",
       "</table>\n",
       "</div>"
      ],
      "text/plain": [
       "       Country  Year  Happiness Score  GDP per Capita  Social Support  \\\n",
       "0  Afghanistan  2008            3.724           7.350           0.451   \n",
       "1  Afghanistan  2009            4.402           7.509           0.552   \n",
       "2  Afghanistan  2010            4.758           7.614           0.539   \n",
       "3  Afghanistan  2011            3.832           7.581           0.521   \n",
       "4  Afghanistan  2012            3.783           7.661           0.521   \n",
       "\n",
       "   Life Expectancy  Freedom  Generosity  Corruption  \n",
       "0             50.5    0.718       0.168       0.882  \n",
       "1             50.8    0.679       0.191       0.850  \n",
       "2             51.1    0.600       0.121       0.707  \n",
       "3             51.4    0.496       0.164       0.731  \n",
       "4             51.7    0.531       0.238       0.776  "
      ]
     },
     "execution_count": 40,
     "metadata": {},
     "output_type": "execute_result"
    }
   ],
   "source": [
    "path = \"dataset\\World Happiness Report (2005-2023).csv\"\n",
    "\n",
    "happiness_df = pd.read_csv(path)\n",
    "happiness_df.head()"
   ]
  },
  {
   "cell_type": "markdown",
   "id": "6b6984f7",
   "metadata": {},
   "source": [
    "## Data Preprocessing\n",
    "\n",
    "### 1. Detect and handle outliers"
   ]
  },
  {
   "cell_type": "code",
   "execution_count": 41,
   "id": "570e720d",
   "metadata": {},
   "outputs": [
    {
     "data": {
      "image/png": "[encoded data removed]",
      "text/plain": [
       "<Figure size 1400x600 with 3 Axes>"
      ]
     },
     "metadata": {},
     "output_type": "display_data"
    }
   ],
   "source": [
    "# Create subplots\n",
    "fig = plt.figure(figsize=(14, 6))\n",
    "gs = plt.GridSpec(nrows=1, ncols=4, figure=fig)\n",
    "\n",
    "# Subplot for population\n",
    "ax1 = fig.add_subplot(gs[0, 0]) \n",
    "sns.boxplot(data=happiness_df['Life Expectancy'], palette=\"rocket\", ax=ax1)\n",
    "ax1.set_title(\"Distribution of Life Expectancy\")\n",
    "\n",
    "# Subplot for GDP per capita\n",
    "ax2 = fig.add_subplot(gs[0, 1])\n",
    "sns.boxplot(data=happiness_df[['Happiness Score', 'GDP per Capita']], palette=\"rocket\", ax=ax2)\n",
    "ax2.set_title(\"Distribution of GDP per capita\")\n",
    "# ax2.tick_params(axis='x', rotation=90)\n",
    "\n",
    "# Subplot for GDP per capita\n",
    "ax3 = fig.add_subplot(gs[0, 2:4])\n",
    "sns.boxplot(data=happiness_df[['Social Support', 'Freedom', 'Generosity', 'Corruption']], palette=\"rocket\", ax=ax3)\n",
    "ax2.set_title(\"Distribution of GDP per capita\")\n",
    "\n",
    "# Show the plots\n",
    "plt.tight_layout()\n",
    "plt.show()"
   ]
  },
  {
   "cell_type": "markdown",
   "id": "40c355f3",
   "metadata": {},
   "source": [
    "All of our features show outliers that need to be handled. For that we will use the IQR."
   ]
  },
  {
   "cell_type": "code",
   "execution_count": null,
   "id": "89ec5d62",
   "metadata": {},
   "outputs": [],
   "source": [
    "for column in happiness_df.drop(columns=['Country','Year']).columns:\n",
    "    Q1 = happiness_df[column].quantile(0.25)\n",
    "    Q3 = happiness_df[column].quantile(0.75)\n",
    "    IQR = Q3 - Q1\n",
    "\n",
    "    lower_bound = Q1 - 1.5 * IQR\n",
    "    upper_bound = Q3 + 1.5 * IQR\n",
    "\n",
    "    outliers = happiness_df[(happiness_df[column] < lower_bound) | (happiness_df[column] > upper_bound)]\n",
    "\n",
    "    happiness_df = happiness_df[(happiness_df[column] >= lower_bound) & (happiness_df[column] <= upper_bound)]"
   ]
  },
  {
   "cell_type": "markdown",
   "id": "ce6d7804",
   "metadata": {},
   "source": [
    "### 2. Handle missing values"
   ]
  },
  {
   "cell_type": "markdown",
   "id": "a06c3d64",
   "metadata": {},
   "source": [
    "Our dataset is free of any missing values."
   ]
  },
  {
   "cell_type": "code",
   "execution_count": 43,
   "id": "e4723a96",
   "metadata": {},
   "outputs": [
    {
     "name": "stdout",
     "output_type": "stream",
     "text": [
      "Corruption         0.049658\n",
      "Generosity         0.031250\n",
      "Life Expectancy    0.023545\n",
      "Freedom            0.014127\n",
      "GDP per Capita     0.008562\n",
      "Social Support     0.005565\n",
      "Country            0.000000\n",
      "Year               0.000000\n",
      "Happiness Score    0.000000\n",
      "dtype: float64\n"
     ]
    }
   ],
   "source": [
    "missing_data = happiness_df.isna().mean()\n",
    "missing_data.sort_values(ascending=False, inplace=True)\n",
    "print(missing_data)"
   ]
  },
  {
   "cell_type": "code",
   "execution_count": 44,
   "id": "77c2e23a",
   "metadata": {},
   "outputs": [
    {
     "data": {
      "text/plain": [
       "Country            0\n",
       "Year               0\n",
       "Happiness Score    0\n",
       "GDP per Capita     0\n",
       "Social Support     0\n",
       "Life Expectancy    0\n",
       "Freedom            0\n",
       "Generosity         0\n",
       "Corruption         0\n",
       "dtype: int64"
      ]
     },
     "execution_count": 44,
     "metadata": {},
     "output_type": "execute_result"
    }
   ],
   "source": [
    "imp = SimpleImputer(strategy='median')    # median is robust to outliers\n",
    "cols = ['Corruption','Generosity','Life Expectancy','Freedom','GDP per Capita','Social Support']\n",
    "happiness_df[cols] = imp.fit_transform(happiness_df[cols])\n",
    "\n",
    "happiness_df.isna().sum()"
   ]
  },
  {
   "cell_type": "markdown",
   "id": "d2adaae1",
   "metadata": {},
   "source": [
    "### 3. Investigate the existence of errors/inconsistencies\n",
    "Let's check for duplicates, data types of logical inconsistencies that don't make sense in our dataset.\n"
   ]
  },
  {
   "cell_type": "code",
   "execution_count": 45,
   "id": "efe32423",
   "metadata": {},
   "outputs": [
    {
     "data": {
      "text/plain": [
       "Country             object\n",
       "Year                 int64\n",
       "Happiness Score    float64\n",
       "GDP per Capita     float64\n",
       "Social Support     float64\n",
       "Life Expectancy    float64\n",
       "Freedom            float64\n",
       "Generosity         float64\n",
       "Corruption         float64\n",
       "dtype: object"
      ]
     },
     "execution_count": 45,
     "metadata": {},
     "output_type": "execute_result"
    }
   ],
   "source": [
    "happiness_df.dtypes"
   ]
  },
  {
   "cell_type": "code",
   "execution_count": 46,
   "id": "124a425b",
   "metadata": {},
   "outputs": [
    {
     "data": {
      "text/html": [
       "<div>\n",
       "<style scoped>\n",
       "    .dataframe tbody tr th:only-of-type {\n",
       "        vertical-align: middle;\n",
       "    }\n",
       "\n",
       "    .dataframe tbody tr th {\n",
       "        vertical-align: top;\n",
       "    }\n",
       "\n",
       "    .dataframe thead th {\n",
       "        text-align: right;\n",
       "    }\n",
       "</style>\n",
       "<table border=\"1\" class=\"dataframe\">\n",
       "  <thead>\n",
       "    <tr style=\"text-align: right;\">\n",
       "      <th></th>\n",
       "      <th>Year</th>\n",
       "      <th>Happiness Score</th>\n",
       "      <th>GDP per Capita</th>\n",
       "      <th>Social Support</th>\n",
       "      <th>Life Expectancy</th>\n",
       "      <th>Freedom</th>\n",
       "      <th>Generosity</th>\n",
       "      <th>Corruption</th>\n",
       "    </tr>\n",
       "  </thead>\n",
       "  <tbody>\n",
       "    <tr>\n",
       "      <th>count</th>\n",
       "      <td>2336.000000</td>\n",
       "      <td>2336.00000</td>\n",
       "      <td>2336.000000</td>\n",
       "      <td>2336.000000</td>\n",
       "      <td>2336.000000</td>\n",
       "      <td>2336.000000</td>\n",
       "      <td>2336.000000</td>\n",
       "      <td>2336.000000</td>\n",
       "    </tr>\n",
       "    <tr>\n",
       "      <th>mean</th>\n",
       "      <td>2014.679795</td>\n",
       "      <td>5.48278</td>\n",
       "      <td>9.394247</td>\n",
       "      <td>0.810141</td>\n",
       "      <td>63.434494</td>\n",
       "      <td>0.750508</td>\n",
       "      <td>0.000742</td>\n",
       "      <td>0.746718</td>\n",
       "    </tr>\n",
       "    <tr>\n",
       "      <th>std</th>\n",
       "      <td>5.027398</td>\n",
       "      <td>1.12622</td>\n",
       "      <td>1.151557</td>\n",
       "      <td>0.121134</td>\n",
       "      <td>6.772118</td>\n",
       "      <td>0.137975</td>\n",
       "      <td>0.157560</td>\n",
       "      <td>0.181055</td>\n",
       "    </tr>\n",
       "    <tr>\n",
       "      <th>min</th>\n",
       "      <td>2005.000000</td>\n",
       "      <td>1.28100</td>\n",
       "      <td>5.527000</td>\n",
       "      <td>0.228000</td>\n",
       "      <td>6.720000</td>\n",
       "      <td>0.258000</td>\n",
       "      <td>-0.338000</td>\n",
       "      <td>0.035000</td>\n",
       "    </tr>\n",
       "    <tr>\n",
       "      <th>25%</th>\n",
       "      <td>2011.000000</td>\n",
       "      <td>4.64700</td>\n",
       "      <td>8.507000</td>\n",
       "      <td>0.746000</td>\n",
       "      <td>59.495000</td>\n",
       "      <td>0.661000</td>\n",
       "      <td>-0.106000</td>\n",
       "      <td>0.696750</td>\n",
       "    </tr>\n",
       "    <tr>\n",
       "      <th>50%</th>\n",
       "      <td>2015.000000</td>\n",
       "      <td>5.43900</td>\n",
       "      <td>9.502500</td>\n",
       "      <td>0.836000</td>\n",
       "      <td>65.100000</td>\n",
       "      <td>0.772000</td>\n",
       "      <td>-0.021000</td>\n",
       "      <td>0.799000</td>\n",
       "    </tr>\n",
       "    <tr>\n",
       "      <th>75%</th>\n",
       "      <td>2019.000000</td>\n",
       "      <td>6.31450</td>\n",
       "      <td>10.371500</td>\n",
       "      <td>0.905000</td>\n",
       "      <td>68.442500</td>\n",
       "      <td>0.859000</td>\n",
       "      <td>0.090000</td>\n",
       "      <td>0.864250</td>\n",
       "    </tr>\n",
       "    <tr>\n",
       "      <th>max</th>\n",
       "      <td>2023.000000</td>\n",
       "      <td>8.01900</td>\n",
       "      <td>11.664000</td>\n",
       "      <td>0.987000</td>\n",
       "      <td>77.280000</td>\n",
       "      <td>0.985000</td>\n",
       "      <td>0.703000</td>\n",
       "      <td>0.983000</td>\n",
       "    </tr>\n",
       "  </tbody>\n",
       "</table>\n",
       "</div>"
      ],
      "text/plain": [
       "              Year  Happiness Score  GDP per Capita  Social Support  \\\n",
       "count  2336.000000       2336.00000     2336.000000     2336.000000   \n",
       "mean   2014.679795          5.48278        9.394247        0.810141   \n",
       "std       5.027398          1.12622        1.151557        0.121134   \n",
       "min    2005.000000          1.28100        5.527000        0.228000   \n",
       "25%    2011.000000          4.64700        8.507000        0.746000   \n",
       "50%    2015.000000          5.43900        9.502500        0.836000   \n",
       "75%    2019.000000          6.31450       10.371500        0.905000   \n",
       "max    2023.000000          8.01900       11.664000        0.987000   \n",
       "\n",
       "       Life Expectancy      Freedom   Generosity   Corruption  \n",
       "count      2336.000000  2336.000000  2336.000000  2336.000000  \n",
       "mean         63.434494     0.750508     0.000742     0.746718  \n",
       "std           6.772118     0.137975     0.157560     0.181055  \n",
       "min           6.720000     0.258000    -0.338000     0.035000  \n",
       "25%          59.495000     0.661000    -0.106000     0.696750  \n",
       "50%          65.100000     0.772000    -0.021000     0.799000  \n",
       "75%          68.442500     0.859000     0.090000     0.864250  \n",
       "max          77.280000     0.985000     0.703000     0.983000  "
      ]
     },
     "execution_count": 46,
     "metadata": {},
     "output_type": "execute_result"
    }
   ],
   "source": [
    "happiness_df.describe()"
   ]
  },
  {
   "cell_type": "markdown",
   "id": "9e49d185",
   "metadata": {},
   "source": [
    "The happiness dataset contains several features with different types of scales, as we observed earlier. These scales range from percentages and proportions (values between 0 and 1) to rates or large numerical values. Some features (`Social_Support`, `Freedom`, `Corruption_Perception`, `Public_Trust`, `Political_Stability`) are between 0 and 1, suggesting they might represent percentages or ratios. In contrast, other features have values ranging from 0 to 100 or even larger scales (in millions or billions).\n",
    "\n",
    "This inconsistency in scales needs to be adressed to prevent models from being biased towards features with larger scales. In the next section, we will standardize and normalize the data to bring all the features to more comparable scales."
   ]
  },
  {
   "cell_type": "markdown",
   "id": "b841fbda",
   "metadata": {},
   "source": [
    "### 4. Feature engineering\n",
    "\n",
    "Let's create a new column by combining `Public_Health_Epxenditure` and `Mental_Health_Index`. This new feature will help capture if investments in public health systems affect the mental health in each country. This will show if happiness is influenced by the prioritization of public mental health."
   ]
  },
  {
   "cell_type": "code",
   "execution_count": 47,
   "id": "2e6fd12d",
   "metadata": {},
   "outputs": [],
   "source": [
    "country_to_continent = pd.read_csv('dataset\\countries_by_continents.csv')\n",
    "happiness_df = pd.merge(happiness_df, country_to_continent, on='Country', how='left')"
   ]
  },
  {
   "cell_type": "code",
   "execution_count": 48,
   "id": "3efdf289",
   "metadata": {},
   "outputs": [
    {
     "data": {
      "text/plain": [
       "Country            0\n",
       "Year               0\n",
       "Happiness Score    0\n",
       "GDP per Capita     0\n",
       "Social Support     0\n",
       "Life Expectancy    0\n",
       "Freedom            0\n",
       "Generosity         0\n",
       "Corruption         0\n",
       "Continent          0\n",
       "dtype: int64"
      ]
     },
     "execution_count": 48,
     "metadata": {},
     "output_type": "execute_result"
    }
   ],
   "source": [
    "happiness_df.isna().sum()"
   ]
  },
  {
   "cell_type": "markdown",
   "id": "7b6527a3",
   "metadata": {},
   "source": [
    "### 5. Normalize numerical features\n",
    "\n",
    "Features already normalized\n"
   ]
  },
  {
   "cell_type": "code",
   "execution_count": 49,
   "id": "7756d083",
   "metadata": {},
   "outputs": [
    {
     "data": {
      "text/html": [
       "<div>\n",
       "<style scoped>\n",
       "    .dataframe tbody tr th:only-of-type {\n",
       "        vertical-align: middle;\n",
       "    }\n",
       "\n",
       "    .dataframe tbody tr th {\n",
       "        vertical-align: top;\n",
       "    }\n",
       "\n",
       "    .dataframe thead th {\n",
       "        text-align: right;\n",
       "    }\n",
       "</style>\n",
       "<table border=\"1\" class=\"dataframe\">\n",
       "  <thead>\n",
       "    <tr style=\"text-align: right;\">\n",
       "      <th></th>\n",
       "      <th>Country</th>\n",
       "      <th>Year</th>\n",
       "      <th>Happiness Score</th>\n",
       "      <th>GDP per Capita</th>\n",
       "      <th>Social Support</th>\n",
       "      <th>Life Expectancy</th>\n",
       "      <th>Freedom</th>\n",
       "      <th>Generosity</th>\n",
       "      <th>Corruption</th>\n",
       "      <th>Continent</th>\n",
       "    </tr>\n",
       "  </thead>\n",
       "  <tbody>\n",
       "    <tr>\n",
       "      <th>0</th>\n",
       "      <td>Afghanistan</td>\n",
       "      <td>2008</td>\n",
       "      <td>3.724</td>\n",
       "      <td>7.350</td>\n",
       "      <td>0.451</td>\n",
       "      <td>50.500</td>\n",
       "      <td>0.718</td>\n",
       "      <td>0.168</td>\n",
       "      <td>0.882</td>\n",
       "      <td>Asia</td>\n",
       "    </tr>\n",
       "    <tr>\n",
       "      <th>1</th>\n",
       "      <td>Afghanistan</td>\n",
       "      <td>2009</td>\n",
       "      <td>4.402</td>\n",
       "      <td>7.509</td>\n",
       "      <td>0.552</td>\n",
       "      <td>50.800</td>\n",
       "      <td>0.679</td>\n",
       "      <td>0.191</td>\n",
       "      <td>0.850</td>\n",
       "      <td>Asia</td>\n",
       "    </tr>\n",
       "    <tr>\n",
       "      <th>2</th>\n",
       "      <td>Afghanistan</td>\n",
       "      <td>2010</td>\n",
       "      <td>4.758</td>\n",
       "      <td>7.614</td>\n",
       "      <td>0.539</td>\n",
       "      <td>51.100</td>\n",
       "      <td>0.600</td>\n",
       "      <td>0.121</td>\n",
       "      <td>0.707</td>\n",
       "      <td>Asia</td>\n",
       "    </tr>\n",
       "    <tr>\n",
       "      <th>3</th>\n",
       "      <td>Afghanistan</td>\n",
       "      <td>2011</td>\n",
       "      <td>3.832</td>\n",
       "      <td>7.581</td>\n",
       "      <td>0.521</td>\n",
       "      <td>51.400</td>\n",
       "      <td>0.496</td>\n",
       "      <td>0.164</td>\n",
       "      <td>0.731</td>\n",
       "      <td>Asia</td>\n",
       "    </tr>\n",
       "    <tr>\n",
       "      <th>4</th>\n",
       "      <td>Afghanistan</td>\n",
       "      <td>2012</td>\n",
       "      <td>3.783</td>\n",
       "      <td>7.661</td>\n",
       "      <td>0.521</td>\n",
       "      <td>51.700</td>\n",
       "      <td>0.531</td>\n",
       "      <td>0.238</td>\n",
       "      <td>0.776</td>\n",
       "      <td>Asia</td>\n",
       "    </tr>\n",
       "    <tr>\n",
       "      <th>...</th>\n",
       "      <td>...</td>\n",
       "      <td>...</td>\n",
       "      <td>...</td>\n",
       "      <td>...</td>\n",
       "      <td>...</td>\n",
       "      <td>...</td>\n",
       "      <td>...</td>\n",
       "      <td>...</td>\n",
       "      <td>...</td>\n",
       "      <td>...</td>\n",
       "    </tr>\n",
       "    <tr>\n",
       "      <th>2331</th>\n",
       "      <td>Zimbabwe</td>\n",
       "      <td>2019</td>\n",
       "      <td>2.694</td>\n",
       "      <td>7.698</td>\n",
       "      <td>0.759</td>\n",
       "      <td>53.100</td>\n",
       "      <td>0.632</td>\n",
       "      <td>-0.047</td>\n",
       "      <td>0.831</td>\n",
       "      <td>Africa</td>\n",
       "    </tr>\n",
       "    <tr>\n",
       "      <th>2332</th>\n",
       "      <td>Zimbabwe</td>\n",
       "      <td>2020</td>\n",
       "      <td>3.160</td>\n",
       "      <td>7.596</td>\n",
       "      <td>0.717</td>\n",
       "      <td>53.575</td>\n",
       "      <td>0.643</td>\n",
       "      <td>0.006</td>\n",
       "      <td>0.789</td>\n",
       "      <td>Africa</td>\n",
       "    </tr>\n",
       "    <tr>\n",
       "      <th>2333</th>\n",
       "      <td>Zimbabwe</td>\n",
       "      <td>2021</td>\n",
       "      <td>3.155</td>\n",
       "      <td>7.657</td>\n",
       "      <td>0.685</td>\n",
       "      <td>54.050</td>\n",
       "      <td>0.668</td>\n",
       "      <td>-0.076</td>\n",
       "      <td>0.757</td>\n",
       "      <td>Africa</td>\n",
       "    </tr>\n",
       "    <tr>\n",
       "      <th>2334</th>\n",
       "      <td>Zimbabwe</td>\n",
       "      <td>2022</td>\n",
       "      <td>3.296</td>\n",
       "      <td>7.670</td>\n",
       "      <td>0.666</td>\n",
       "      <td>54.525</td>\n",
       "      <td>0.652</td>\n",
       "      <td>-0.070</td>\n",
       "      <td>0.753</td>\n",
       "      <td>Africa</td>\n",
       "    </tr>\n",
       "    <tr>\n",
       "      <th>2335</th>\n",
       "      <td>Zimbabwe</td>\n",
       "      <td>2023</td>\n",
       "      <td>3.204</td>\n",
       "      <td>7.641</td>\n",
       "      <td>0.690</td>\n",
       "      <td>54.050</td>\n",
       "      <td>0.654</td>\n",
       "      <td>-0.046</td>\n",
       "      <td>0.766</td>\n",
       "      <td>Africa</td>\n",
       "    </tr>\n",
       "  </tbody>\n",
       "</table>\n",
       "<p>2336 rows × 10 columns</p>\n",
       "</div>"
      ],
      "text/plain": [
       "          Country  Year  Happiness Score  GDP per Capita  Social Support  \\\n",
       "0     Afghanistan  2008            3.724           7.350           0.451   \n",
       "1     Afghanistan  2009            4.402           7.509           0.552   \n",
       "2     Afghanistan  2010            4.758           7.614           0.539   \n",
       "3     Afghanistan  2011            3.832           7.581           0.521   \n",
       "4     Afghanistan  2012            3.783           7.661           0.521   \n",
       "...           ...   ...              ...             ...             ...   \n",
       "2331     Zimbabwe  2019            2.694           7.698           0.759   \n",
       "2332     Zimbabwe  2020            3.160           7.596           0.717   \n",
       "2333     Zimbabwe  2021            3.155           7.657           0.685   \n",
       "2334     Zimbabwe  2022            3.296           7.670           0.666   \n",
       "2335     Zimbabwe  2023            3.204           7.641           0.690   \n",
       "\n",
       "      Life Expectancy  Freedom  Generosity  Corruption Continent  \n",
       "0              50.500    0.718       0.168       0.882      Asia  \n",
       "1              50.800    0.679       0.191       0.850      Asia  \n",
       "2              51.100    0.600       0.121       0.707      Asia  \n",
       "3              51.400    0.496       0.164       0.731      Asia  \n",
       "4              51.700    0.531       0.238       0.776      Asia  \n",
       "...               ...      ...         ...         ...       ...  \n",
       "2331           53.100    0.632      -0.047       0.831    Africa  \n",
       "2332           53.575    0.643       0.006       0.789    Africa  \n",
       "2333           54.050    0.668      -0.076       0.757    Africa  \n",
       "2334           54.525    0.652      -0.070       0.753    Africa  \n",
       "2335           54.050    0.654      -0.046       0.766    Africa  \n",
       "\n",
       "[2336 rows x 10 columns]"
      ]
     },
     "execution_count": 49,
     "metadata": {},
     "output_type": "execute_result"
    }
   ],
   "source": [
    "happiness_df"
   ]
  },
  {
   "cell_type": "code",
   "execution_count": 50,
   "id": "62f744a1",
   "metadata": {},
   "outputs": [
    {
     "name": "stdout",
     "output_type": "stream",
     "text": [
      "Numerical features summary statistics:\n"
     ]
    },
    {
     "data": {
      "text/html": [
       "<div>\n",
       "<style scoped>\n",
       "    .dataframe tbody tr th:only-of-type {\n",
       "        vertical-align: middle;\n",
       "    }\n",
       "\n",
       "    .dataframe tbody tr th {\n",
       "        vertical-align: top;\n",
       "    }\n",
       "\n",
       "    .dataframe thead th {\n",
       "        text-align: right;\n",
       "    }\n",
       "</style>\n",
       "<table border=\"1\" class=\"dataframe\">\n",
       "  <thead>\n",
       "    <tr style=\"text-align: right;\">\n",
       "      <th></th>\n",
       "      <th>Happiness Score</th>\n",
       "      <th>GDP per Capita</th>\n",
       "      <th>Social Support</th>\n",
       "      <th>Life Expectancy</th>\n",
       "      <th>Freedom</th>\n",
       "      <th>Generosity</th>\n",
       "      <th>Corruption</th>\n",
       "    </tr>\n",
       "  </thead>\n",
       "  <tbody>\n",
       "    <tr>\n",
       "      <th>count</th>\n",
       "      <td>2.336000e+03</td>\n",
       "      <td>2.336000e+03</td>\n",
       "      <td>2.336000e+03</td>\n",
       "      <td>2.336000e+03</td>\n",
       "      <td>2.336000e+03</td>\n",
       "      <td>2336.000000</td>\n",
       "      <td>2.336000e+03</td>\n",
       "    </tr>\n",
       "    <tr>\n",
       "      <th>mean</th>\n",
       "      <td>-6.448419e-16</td>\n",
       "      <td>-2.159612e-16</td>\n",
       "      <td>-3.163375e-16</td>\n",
       "      <td>-1.289684e-15</td>\n",
       "      <td>-4.243181e-16</td>\n",
       "      <td>0.000000</td>\n",
       "      <td>-2.600659e-16</td>\n",
       "    </tr>\n",
       "    <tr>\n",
       "      <th>std</th>\n",
       "      <td>1.000214e+00</td>\n",
       "      <td>1.000214e+00</td>\n",
       "      <td>1.000214e+00</td>\n",
       "      <td>1.000214e+00</td>\n",
       "      <td>1.000214e+00</td>\n",
       "      <td>1.000214</td>\n",
       "      <td>1.000214e+00</td>\n",
       "    </tr>\n",
       "    <tr>\n",
       "      <th>min</th>\n",
       "      <td>-3.731669e+00</td>\n",
       "      <td>-3.358996e+00</td>\n",
       "      <td>-4.806778e+00</td>\n",
       "      <td>-8.376499e+00</td>\n",
       "      <td>-3.570307e+00</td>\n",
       "      <td>-2.150380</td>\n",
       "      <td>-3.931783e+00</td>\n",
       "    </tr>\n",
       "    <tr>\n",
       "      <th>25%</th>\n",
       "      <td>-7.422694e-01</td>\n",
       "      <td>-7.706407e-01</td>\n",
       "      <td>-5.296186e-01</td>\n",
       "      <td>-5.818471e-01</td>\n",
       "      <td>-6.488629e-01</td>\n",
       "      <td>-0.677614</td>\n",
       "      <td>-2.760404e-01</td>\n",
       "    </tr>\n",
       "    <tr>\n",
       "      <th>50%</th>\n",
       "      <td>-3.888132e-02</td>\n",
       "      <td>9.402628e-02</td>\n",
       "      <td>2.135172e-01</td>\n",
       "      <td>2.459885e-01</td>\n",
       "      <td>1.558028e-01</td>\n",
       "      <td>-0.138023</td>\n",
       "      <td>2.888250e-01</td>\n",
       "    </tr>\n",
       "    <tr>\n",
       "      <th>75%</th>\n",
       "      <td>7.386645e-01</td>\n",
       "      <td>8.488185e-01</td>\n",
       "      <td>7.832547e-01</td>\n",
       "      <td>7.396621e-01</td>\n",
       "      <td>7.864867e-01</td>\n",
       "      <td>0.566620</td>\n",
       "      <td>6.492892e-01</td>\n",
       "    </tr>\n",
       "    <tr>\n",
       "      <th>max</th>\n",
       "      <td>2.252459e+00</td>\n",
       "      <td>1.971452e+00</td>\n",
       "      <td>1.460334e+00</td>\n",
       "      <td>2.044925e+00</td>\n",
       "      <td>1.699891e+00</td>\n",
       "      <td>4.458023</td>\n",
       "      <td>1.305307e+00</td>\n",
       "    </tr>\n",
       "  </tbody>\n",
       "</table>\n",
       "</div>"
      ],
      "text/plain": [
       "       Happiness Score  GDP per Capita  Social Support  Life Expectancy  \\\n",
       "count     2.336000e+03    2.336000e+03    2.336000e+03     2.336000e+03   \n",
       "mean     -6.448419e-16   -2.159612e-16   -3.163375e-16    -1.289684e-15   \n",
       "std       1.000214e+00    1.000214e+00    1.000214e+00     1.000214e+00   \n",
       "min      -3.731669e+00   -3.358996e+00   -4.806778e+00    -8.376499e+00   \n",
       "25%      -7.422694e-01   -7.706407e-01   -5.296186e-01    -5.818471e-01   \n",
       "50%      -3.888132e-02    9.402628e-02    2.135172e-01     2.459885e-01   \n",
       "75%       7.386645e-01    8.488185e-01    7.832547e-01     7.396621e-01   \n",
       "max       2.252459e+00    1.971452e+00    1.460334e+00     2.044925e+00   \n",
       "\n",
       "            Freedom   Generosity    Corruption  \n",
       "count  2.336000e+03  2336.000000  2.336000e+03  \n",
       "mean  -4.243181e-16     0.000000 -2.600659e-16  \n",
       "std    1.000214e+00     1.000214  1.000214e+00  \n",
       "min   -3.570307e+00    -2.150380 -3.931783e+00  \n",
       "25%   -6.488629e-01    -0.677614 -2.760404e-01  \n",
       "50%    1.558028e-01    -0.138023  2.888250e-01  \n",
       "75%    7.864867e-01     0.566620  6.492892e-01  \n",
       "max    1.699891e+00     4.458023  1.305307e+00  "
      ]
     },
     "metadata": {},
     "output_type": "display_data"
    },
    {
     "name": "stdout",
     "output_type": "stream",
     "text": [
      "\n",
      "First 5 rows for numerical features:\n"
     ]
    },
    {
     "data": {
      "text/html": [
       "<div>\n",
       "<style scoped>\n",
       "    .dataframe tbody tr th:only-of-type {\n",
       "        vertical-align: middle;\n",
       "    }\n",
       "\n",
       "    .dataframe tbody tr th {\n",
       "        vertical-align: top;\n",
       "    }\n",
       "\n",
       "    .dataframe thead th {\n",
       "        text-align: right;\n",
       "    }\n",
       "</style>\n",
       "<table border=\"1\" class=\"dataframe\">\n",
       "  <thead>\n",
       "    <tr style=\"text-align: right;\">\n",
       "      <th></th>\n",
       "      <th>Happiness Score</th>\n",
       "      <th>GDP per Capita</th>\n",
       "      <th>Social Support</th>\n",
       "      <th>Life Expectancy</th>\n",
       "      <th>Freedom</th>\n",
       "      <th>Generosity</th>\n",
       "      <th>Corruption</th>\n",
       "    </tr>\n",
       "  </thead>\n",
       "  <tbody>\n",
       "    <tr>\n",
       "      <th>0</th>\n",
       "      <td>-1.562001</td>\n",
       "      <td>-1.775583</td>\n",
       "      <td>-2.965453</td>\n",
       "      <td>-1.910372</td>\n",
       "      <td>-0.235656</td>\n",
       "      <td>1.061774</td>\n",
       "      <td>0.747347</td>\n",
       "    </tr>\n",
       "    <tr>\n",
       "      <th>1</th>\n",
       "      <td>-0.959858</td>\n",
       "      <td>-1.637479</td>\n",
       "      <td>-2.131489</td>\n",
       "      <td>-1.866063</td>\n",
       "      <td>-0.518377</td>\n",
       "      <td>1.207781</td>\n",
       "      <td>0.570567</td>\n",
       "    </tr>\n",
       "    <tr>\n",
       "      <th>2</th>\n",
       "      <td>-0.643689</td>\n",
       "      <td>-1.546279</td>\n",
       "      <td>-2.238831</td>\n",
       "      <td>-1.821754</td>\n",
       "      <td>-1.091067</td>\n",
       "      <td>0.763412</td>\n",
       "      <td>-0.219416</td>\n",
       "    </tr>\n",
       "    <tr>\n",
       "      <th>3</th>\n",
       "      <td>-1.466084</td>\n",
       "      <td>-1.574942</td>\n",
       "      <td>-2.387458</td>\n",
       "      <td>-1.777445</td>\n",
       "      <td>-1.844987</td>\n",
       "      <td>1.036381</td>\n",
       "      <td>-0.086831</td>\n",
       "    </tr>\n",
       "    <tr>\n",
       "      <th>4</th>\n",
       "      <td>-1.509602</td>\n",
       "      <td>-1.505456</td>\n",
       "      <td>-2.387458</td>\n",
       "      <td>-1.733137</td>\n",
       "      <td>-1.591264</td>\n",
       "      <td>1.506143</td>\n",
       "      <td>0.161765</td>\n",
       "    </tr>\n",
       "  </tbody>\n",
       "</table>\n",
       "</div>"
      ],
      "text/plain": [
       "   Happiness Score  GDP per Capita  Social Support  Life Expectancy   Freedom  \\\n",
       "0        -1.562001       -1.775583       -2.965453        -1.910372 -0.235656   \n",
       "1        -0.959858       -1.637479       -2.131489        -1.866063 -0.518377   \n",
       "2        -0.643689       -1.546279       -2.238831        -1.821754 -1.091067   \n",
       "3        -1.466084       -1.574942       -2.387458        -1.777445 -1.844987   \n",
       "4        -1.509602       -1.505456       -2.387458        -1.733137 -1.591264   \n",
       "\n",
       "   Generosity  Corruption  \n",
       "0    1.061774    0.747347  \n",
       "1    1.207781    0.570567  \n",
       "2    0.763412   -0.219416  \n",
       "3    1.036381   -0.086831  \n",
       "4    1.506143    0.161765  "
      ]
     },
     "metadata": {},
     "output_type": "display_data"
    }
   ],
   "source": [
    "numerical_features = happiness_df.drop(columns='Year').select_dtypes(include=['number'])\n",
    "\n",
    "for col in numerical_features.columns:\n",
    "    scaler = StandardScaler()\n",
    "    numerical_features[col] = scaler.fit_transform(numerical_features[[col]])\n",
    "\n",
    "print(\"Numerical features summary statistics:\")\n",
    "display(numerical_features.describe())\n",
    "\n",
    "print(\"\\nFirst 5 rows for numerical features:\")\n",
    "display(numerical_features.head())\n"
   ]
  },
  {
   "cell_type": "code",
   "execution_count": 51,
   "id": "f1b32169",
   "metadata": {},
   "outputs": [
    {
     "data": {
      "text/plain": [
       "Country            0\n",
       "Year               0\n",
       "Continent          0\n",
       "Happiness Score    0\n",
       "GDP per Capita     0\n",
       "Social Support     0\n",
       "Life Expectancy    0\n",
       "Freedom            0\n",
       "Generosity         0\n",
       "Corruption         0\n",
       "dtype: int64"
      ]
     },
     "execution_count": 51,
     "metadata": {},
     "output_type": "execute_result"
    }
   ],
   "source": [
    "happiness_merged = pd.concat([happiness_df[['Country', 'Year', 'Continent']], numerical_features], axis = 1)\n",
    "# Normalized dataset \n",
    "happiness_merged.isna().sum()"
   ]
  },
  {
   "cell_type": "markdown",
   "id": "fcf8ad79",
   "metadata": {},
   "source": [
    "### 6. Encode categorical variables\n"
   ]
  },
  {
   "cell_type": "code",
   "execution_count": 52,
   "id": "fc6e8571",
   "metadata": {},
   "outputs": [
    {
     "data": {
      "text/html": [
       "<div>\n",
       "<style scoped>\n",
       "    .dataframe tbody tr th:only-of-type {\n",
       "        vertical-align: middle;\n",
       "    }\n",
       "\n",
       "    .dataframe tbody tr th {\n",
       "        vertical-align: top;\n",
       "    }\n",
       "\n",
       "    .dataframe thead th {\n",
       "        text-align: right;\n",
       "    }\n",
       "</style>\n",
       "<table border=\"1\" class=\"dataframe\">\n",
       "  <thead>\n",
       "    <tr style=\"text-align: right;\">\n",
       "      <th></th>\n",
       "      <th>Africa</th>\n",
       "      <th>Asia</th>\n",
       "      <th>Europe</th>\n",
       "      <th>North America</th>\n",
       "      <th>Oceania</th>\n",
       "      <th>South America</th>\n",
       "    </tr>\n",
       "  </thead>\n",
       "  <tbody>\n",
       "    <tr>\n",
       "      <th>0</th>\n",
       "      <td>0</td>\n",
       "      <td>1</td>\n",
       "      <td>0</td>\n",
       "      <td>0</td>\n",
       "      <td>0</td>\n",
       "      <td>0</td>\n",
       "    </tr>\n",
       "    <tr>\n",
       "      <th>1</th>\n",
       "      <td>0</td>\n",
       "      <td>1</td>\n",
       "      <td>0</td>\n",
       "      <td>0</td>\n",
       "      <td>0</td>\n",
       "      <td>0</td>\n",
       "    </tr>\n",
       "    <tr>\n",
       "      <th>2</th>\n",
       "      <td>0</td>\n",
       "      <td>1</td>\n",
       "      <td>0</td>\n",
       "      <td>0</td>\n",
       "      <td>0</td>\n",
       "      <td>0</td>\n",
       "    </tr>\n",
       "    <tr>\n",
       "      <th>3</th>\n",
       "      <td>0</td>\n",
       "      <td>1</td>\n",
       "      <td>0</td>\n",
       "      <td>0</td>\n",
       "      <td>0</td>\n",
       "      <td>0</td>\n",
       "    </tr>\n",
       "    <tr>\n",
       "      <th>4</th>\n",
       "      <td>0</td>\n",
       "      <td>1</td>\n",
       "      <td>0</td>\n",
       "      <td>0</td>\n",
       "      <td>0</td>\n",
       "      <td>0</td>\n",
       "    </tr>\n",
       "    <tr>\n",
       "      <th>...</th>\n",
       "      <td>...</td>\n",
       "      <td>...</td>\n",
       "      <td>...</td>\n",
       "      <td>...</td>\n",
       "      <td>...</td>\n",
       "      <td>...</td>\n",
       "    </tr>\n",
       "    <tr>\n",
       "      <th>2331</th>\n",
       "      <td>1</td>\n",
       "      <td>0</td>\n",
       "      <td>0</td>\n",
       "      <td>0</td>\n",
       "      <td>0</td>\n",
       "      <td>0</td>\n",
       "    </tr>\n",
       "    <tr>\n",
       "      <th>2332</th>\n",
       "      <td>1</td>\n",
       "      <td>0</td>\n",
       "      <td>0</td>\n",
       "      <td>0</td>\n",
       "      <td>0</td>\n",
       "      <td>0</td>\n",
       "    </tr>\n",
       "    <tr>\n",
       "      <th>2333</th>\n",
       "      <td>1</td>\n",
       "      <td>0</td>\n",
       "      <td>0</td>\n",
       "      <td>0</td>\n",
       "      <td>0</td>\n",
       "      <td>0</td>\n",
       "    </tr>\n",
       "    <tr>\n",
       "      <th>2334</th>\n",
       "      <td>1</td>\n",
       "      <td>0</td>\n",
       "      <td>0</td>\n",
       "      <td>0</td>\n",
       "      <td>0</td>\n",
       "      <td>0</td>\n",
       "    </tr>\n",
       "    <tr>\n",
       "      <th>2335</th>\n",
       "      <td>1</td>\n",
       "      <td>0</td>\n",
       "      <td>0</td>\n",
       "      <td>0</td>\n",
       "      <td>0</td>\n",
       "      <td>0</td>\n",
       "    </tr>\n",
       "  </tbody>\n",
       "</table>\n",
       "<p>2336 rows × 6 columns</p>\n",
       "</div>"
      ],
      "text/plain": [
       "      Africa  Asia  Europe  North America  Oceania  South America\n",
       "0          0     1       0              0        0              0\n",
       "1          0     1       0              0        0              0\n",
       "2          0     1       0              0        0              0\n",
       "3          0     1       0              0        0              0\n",
       "4          0     1       0              0        0              0\n",
       "...      ...   ...     ...            ...      ...            ...\n",
       "2331       1     0       0              0        0              0\n",
       "2332       1     0       0              0        0              0\n",
       "2333       1     0       0              0        0              0\n",
       "2334       1     0       0              0        0              0\n",
       "2335       1     0       0              0        0              0\n",
       "\n",
       "[2336 rows x 6 columns]"
      ]
     },
     "execution_count": 52,
     "metadata": {},
     "output_type": "execute_result"
    }
   ],
   "source": [
    "continents_encoded = pd.get_dummies(happiness_df['Continent'], sparse = True, dtype='int')\n",
    "continents_encoded"
   ]
  },
  {
   "cell_type": "markdown",
   "id": "d4b35518",
   "metadata": {},
   "source": [
    "Now, let's merge it with our dataset."
   ]
  },
  {
   "cell_type": "code",
   "execution_count": 53,
   "id": "a1b8a90d",
   "metadata": {},
   "outputs": [
    {
     "data": {
      "text/html": [
       "<div>\n",
       "<style scoped>\n",
       "    .dataframe tbody tr th:only-of-type {\n",
       "        vertical-align: middle;\n",
       "    }\n",
       "\n",
       "    .dataframe tbody tr th {\n",
       "        vertical-align: top;\n",
       "    }\n",
       "\n",
       "    .dataframe thead th {\n",
       "        text-align: right;\n",
       "    }\n",
       "</style>\n",
       "<table border=\"1\" class=\"dataframe\">\n",
       "  <thead>\n",
       "    <tr style=\"text-align: right;\">\n",
       "      <th></th>\n",
       "      <th>Country</th>\n",
       "      <th>Year</th>\n",
       "      <th>Happiness Score</th>\n",
       "      <th>GDP per Capita</th>\n",
       "      <th>Social Support</th>\n",
       "      <th>Life Expectancy</th>\n",
       "      <th>Freedom</th>\n",
       "      <th>Generosity</th>\n",
       "      <th>Corruption</th>\n",
       "      <th>Africa</th>\n",
       "      <th>Asia</th>\n",
       "      <th>Europe</th>\n",
       "      <th>North America</th>\n",
       "      <th>Oceania</th>\n",
       "      <th>South America</th>\n",
       "    </tr>\n",
       "  </thead>\n",
       "  <tbody>\n",
       "    <tr>\n",
       "      <th>0</th>\n",
       "      <td>Afghanistan</td>\n",
       "      <td>2008</td>\n",
       "      <td>-1.562001</td>\n",
       "      <td>-1.775583</td>\n",
       "      <td>-2.965453</td>\n",
       "      <td>-1.910372</td>\n",
       "      <td>-0.235656</td>\n",
       "      <td>1.061774</td>\n",
       "      <td>0.747347</td>\n",
       "      <td>0</td>\n",
       "      <td>1</td>\n",
       "      <td>0</td>\n",
       "      <td>0</td>\n",
       "      <td>0</td>\n",
       "      <td>0</td>\n",
       "    </tr>\n",
       "    <tr>\n",
       "      <th>1</th>\n",
       "      <td>Afghanistan</td>\n",
       "      <td>2009</td>\n",
       "      <td>-0.959858</td>\n",
       "      <td>-1.637479</td>\n",
       "      <td>-2.131489</td>\n",
       "      <td>-1.866063</td>\n",
       "      <td>-0.518377</td>\n",
       "      <td>1.207781</td>\n",
       "      <td>0.570567</td>\n",
       "      <td>0</td>\n",
       "      <td>1</td>\n",
       "      <td>0</td>\n",
       "      <td>0</td>\n",
       "      <td>0</td>\n",
       "      <td>0</td>\n",
       "    </tr>\n",
       "    <tr>\n",
       "      <th>2</th>\n",
       "      <td>Afghanistan</td>\n",
       "      <td>2010</td>\n",
       "      <td>-0.643689</td>\n",
       "      <td>-1.546279</td>\n",
       "      <td>-2.238831</td>\n",
       "      <td>-1.821754</td>\n",
       "      <td>-1.091067</td>\n",
       "      <td>0.763412</td>\n",
       "      <td>-0.219416</td>\n",
       "      <td>0</td>\n",
       "      <td>1</td>\n",
       "      <td>0</td>\n",
       "      <td>0</td>\n",
       "      <td>0</td>\n",
       "      <td>0</td>\n",
       "    </tr>\n",
       "    <tr>\n",
       "      <th>3</th>\n",
       "      <td>Afghanistan</td>\n",
       "      <td>2011</td>\n",
       "      <td>-1.466084</td>\n",
       "      <td>-1.574942</td>\n",
       "      <td>-2.387458</td>\n",
       "      <td>-1.777445</td>\n",
       "      <td>-1.844987</td>\n",
       "      <td>1.036381</td>\n",
       "      <td>-0.086831</td>\n",
       "      <td>0</td>\n",
       "      <td>1</td>\n",
       "      <td>0</td>\n",
       "      <td>0</td>\n",
       "      <td>0</td>\n",
       "      <td>0</td>\n",
       "    </tr>\n",
       "    <tr>\n",
       "      <th>4</th>\n",
       "      <td>Afghanistan</td>\n",
       "      <td>2012</td>\n",
       "      <td>-1.509602</td>\n",
       "      <td>-1.505456</td>\n",
       "      <td>-2.387458</td>\n",
       "      <td>-1.733137</td>\n",
       "      <td>-1.591264</td>\n",
       "      <td>1.506143</td>\n",
       "      <td>0.161765</td>\n",
       "      <td>0</td>\n",
       "      <td>1</td>\n",
       "      <td>0</td>\n",
       "      <td>0</td>\n",
       "      <td>0</td>\n",
       "      <td>0</td>\n",
       "    </tr>\n",
       "  </tbody>\n",
       "</table>\n",
       "</div>"
      ],
      "text/plain": [
       "       Country  Year  Happiness Score  GDP per Capita  Social Support  \\\n",
       "0  Afghanistan  2008        -1.562001       -1.775583       -2.965453   \n",
       "1  Afghanistan  2009        -0.959858       -1.637479       -2.131489   \n",
       "2  Afghanistan  2010        -0.643689       -1.546279       -2.238831   \n",
       "3  Afghanistan  2011        -1.466084       -1.574942       -2.387458   \n",
       "4  Afghanistan  2012        -1.509602       -1.505456       -2.387458   \n",
       "\n",
       "   Life Expectancy   Freedom  Generosity  Corruption  Africa  Asia  Europe  \\\n",
       "0        -1.910372 -0.235656    1.061774    0.747347       0     1       0   \n",
       "1        -1.866063 -0.518377    1.207781    0.570567       0     1       0   \n",
       "2        -1.821754 -1.091067    0.763412   -0.219416       0     1       0   \n",
       "3        -1.777445 -1.844987    1.036381   -0.086831       0     1       0   \n",
       "4        -1.733137 -1.591264    1.506143    0.161765       0     1       0   \n",
       "\n",
       "   North America  Oceania  South America  \n",
       "0              0        0              0  \n",
       "1              0        0              0  \n",
       "2              0        0              0  \n",
       "3              0        0              0  \n",
       "4              0        0              0  "
      ]
     },
     "execution_count": 53,
     "metadata": {},
     "output_type": "execute_result"
    }
   ],
   "source": [
    "happiness_merged = pd.concat([happiness_merged, continents_encoded], axis =1)\n",
    "happiness_merged = happiness_merged.drop(columns='Continent')\n",
    "happiness_merged.head()"
   ]
  },
  {
   "cell_type": "markdown",
   "id": "fa60b059",
   "metadata": {},
   "source": [
    "## Principal Component Analysis (PCA)"
   ]
  },
  {
   "cell_type": "code",
   "execution_count": 54,
   "id": "7fbcf76b",
   "metadata": {},
   "outputs": [],
   "source": [
    "def perform_pca_analysis(dataset):\n",
    "    # Apply PCA (keep all components)\n",
    "    pca = PCA(n_components=len(dataset.columns))\n",
    "    pca.fit(dataset)\n",
    "\n",
    "    # Get explained variance\n",
    "    explained_variance = pca.explained_variance_ratio_\n",
    "    cumulative_variance = np.cumsum(explained_variance)\n",
    "\n",
    "    # Find the minimum number of components that explain at least 90% variance\n",
    "    num_components_90 = np.argmax(cumulative_variance >= 0.90) + 1\n",
    "\n",
    "    # Plot explained variance\n",
    "    plt.figure(figsize=(18, 8))\n",
    "    plt.bar(range(1, len(explained_variance) + 1), explained_variance, alpha=0.7, color='b', label=\"Explained Variance\")\n",
    "    plt.plot(range(1, len(cumulative_variance) + 1), cumulative_variance, marker='o', linestyle='--', color='r', label=\"Cumulative Explained Variance\")\n",
    "    plt.xlabel('Number of Principal Components')\n",
    "    plt.ylabel('Variance Explained')\n",
    "    plt.title('Explained and Cumulative Variance by Principal Components')\n",
    "    plt.xticks(range(1, len(explained_variance) + 1))\n",
    "    plt.legend()\n",
    "    plt.grid(True)\n",
    "    plt.show()\n",
    "\n",
    "    # Create a DataFrame to show explained variance\n",
    "    explained_variance_df = pd.DataFrame({\n",
    "        \"Principal Component\": [f\"PC{i+1}\" for i in range(len(explained_variance))],\n",
    "        \"Explained Variance Ratio\": explained_variance,\n",
    "        \"Cumulative Variance\": cumulative_variance\n",
    "    })\n",
    "\n",
    "    # Print explained variance DataFrame\n",
    "    print(\"\\nExplained Variance Analysis:\")\n",
    "    print(explained_variance_df)\n",
    "\n",
    "    # Get PCA component vectors (eigenvectors)\n",
    "    pca_components_df = pd.DataFrame(pca.components_, columns=dataset.columns, index=[f\"PC{i+1}\" for i in range(len(dataset.columns))])\n",
    "\n",
    "    # Print PCA component vectors\n",
    "    print(\"\\nPCA Component Vectors (Eigenvectors):\")\n",
    "    print(pca_components_df)\n",
    "    return num_components_90 "
   ]
  },
  {
   "cell_type": "code",
   "execution_count": 55,
   "id": "0ff968f0",
   "metadata": {},
   "outputs": [
    {
     "data": {
      "image/png": "[encoded data removed]",
      "text/plain": [
       "<Figure size 1800x800 with 1 Axes>"
      ]
     },
     "metadata": {},
     "output_type": "display_data"
    },
    {
     "name": "stdout",
     "output_type": "stream",
     "text": [
      "\n",
      "Explained Variance Analysis:\n",
      "   Principal Component  Explained Variance Ratio  Cumulative Variance\n",
      "0                  PC1                  0.490493             0.490493\n",
      "1                  PC2                  0.173738             0.664232\n",
      "2                  PC3                  0.091014             0.755246\n",
      "3                  PC4                  0.071990             0.827236\n",
      "4                  PC5                  0.053324             0.880560\n",
      "5                  PC6                  0.033065             0.913625\n",
      "6                  PC7                  0.027370             0.940995\n",
      "7                  PC8                  0.023221             0.964216\n",
      "8                  PC9                  0.013922             0.978138\n",
      "9                 PC10                  0.010914             0.989052\n",
      "10                PC11                  0.008999             0.998051\n",
      "11                PC12                  0.001949             1.000000\n",
      "12                PC13                  0.000000             1.000000\n",
      "\n",
      "PCA Component Vectors (Eigenvectors):\n",
      "      Happiness Score  GDP per Capita  Social Support  Life Expectancy  \\\n",
      "PC1      4.692944e-01    4.510098e-01    4.110941e-01     4.318916e-01   \n",
      "PC2     -2.158956e-02   -2.463861e-01   -1.699862e-01    -2.402619e-01   \n",
      "PC3      6.476042e-02   -1.609954e-02    2.732692e-01     3.359061e-02   \n",
      "PC4      4.039442e-02   -2.315320e-01    2.744710e-01    -2.630063e-01   \n",
      "PC5      1.715258e-01   -1.045551e-01    6.230513e-01    -4.889340e-01   \n",
      "PC6     -3.066536e-01   -4.575213e-02    3.953080e-01     1.326148e-02   \n",
      "PC7      6.987058e-01    5.662638e-02   -3.100537e-01    -2.698527e-01   \n",
      "PC8     -1.584601e-01    7.203291e-01   -8.985717e-02    -5.241721e-01   \n",
      "PC9      2.492421e-01   -3.292685e-01   -3.139612e-02    -2.176721e-01   \n",
      "PC10    -2.183993e-01    7.534291e-02    3.151385e-02    -5.633983e-02   \n",
      "PC11    -1.638756e-01    1.808681e-01   -3.672358e-02    -2.187850e-01   \n",
      "PC12    -6.247494e-03   -1.022721e-02   -9.970600e-03    -1.454866e-02   \n",
      "PC13    -4.296653e-17    3.456714e-17    6.675373e-17    -1.497097e-16   \n",
      "\n",
      "           Freedom    Generosity    Corruption    Africa      Asia    Europe  \\\n",
      "PC1   3.270462e-01  9.870084e-02 -2.700637e-01 -0.141497 -0.002907  0.102821   \n",
      "PC2   4.089812e-01  6.810375e-01 -4.415603e-01  0.087318  0.037521 -0.125602   \n",
      "PC3  -8.672871e-02  6.020095e-01  7.230537e-01 -0.116232  0.110132 -0.022881   \n",
      "PC4   7.207843e-01 -3.690974e-01  3.146304e-01  0.107755 -0.074937 -0.142587   \n",
      "PC5  -3.862421e-01  3.694694e-02 -2.308562e-01  0.186617 -0.297157  0.067340   \n",
      "PC6  -8.577369e-02 -9.407399e-02 -2.010493e-01 -0.190466  0.679330 -0.434719   \n",
      "PC7  -1.556521e-01 -8.616251e-02  5.810071e-02 -0.059190  0.201385 -0.455896   \n",
      "PC8   1.235073e-01  2.245625e-02  8.543897e-02  0.099626  0.184238  0.133016   \n",
      "PC9   3.695004e-02 -8.834270e-02 -3.367888e-02 -0.507839  0.318047  0.589649   \n",
      "PC10  2.028858e-02 -4.308855e-03 -4.476376e-02 -0.372090 -0.158169 -0.016445   \n",
      "PC11  2.794977e-02  3.763693e-02 -4.484742e-02 -0.501139 -0.189069  0.002365   \n",
      "PC12  1.197654e-02 -2.037029e-02  2.740097e-02 -0.220325 -0.167222 -0.138272   \n",
      "PC13  5.317720e-17 -7.789786e-17 -2.770896e-17  0.408248  0.408248  0.408248   \n",
      "\n",
      "      North America   Oceania  South America  \n",
      "PC1        0.016482  0.012633       0.012468  \n",
      "PC2        0.010931  0.019145      -0.029313  \n",
      "PC3        0.026080 -0.007263       0.010165  \n",
      "PC4        0.054233 -0.013814       0.069350  \n",
      "PC5        0.023947  0.017791       0.001462  \n",
      "PC6       -0.063201  0.007400       0.001655  \n",
      "PC7        0.210217  0.011893       0.091592  \n",
      "PC8       -0.140833 -0.014270      -0.261778  \n",
      "PC9       -0.143082 -0.055548      -0.201227  \n",
      "PC10       0.837030 -0.015698      -0.274627  \n",
      "PC11      -0.080976 -0.001605       0.770425  \n",
      "PC12      -0.181879  0.910227      -0.202528  \n",
      "PC13       0.408248  0.408248       0.408248  \n",
      "\n",
      "Minimum number of PCA components needed for 90% variance: 6\n"
     ]
    }
   ],
   "source": [
    "num_pcs = perform_pca_analysis(happiness_merged.drop(columns=['Country','Year']))\n",
    "print(f\"\\nMinimum number of PCA components needed for 90% variance: {num_pcs}\")"
   ]
  },
  {
   "cell_type": "markdown",
   "id": "92cc737a",
   "metadata": {},
   "source": [
    "When performing PCA analysis on whole cleaned dataset, we need at least `6` PCA components to explain `90%` of variance."
   ]
  },
  {
   "cell_type": "markdown",
   "id": "30865efd",
   "metadata": {},
   "source": [
    "## Exploratory Data Analysis (EDA)"
   ]
  },
  {
   "cell_type": "markdown",
   "id": "1f1a89d3",
   "metadata": {},
   "source": [
    "#### Correlation Heatmap"
   ]
  },
  {
   "cell_type": "code",
   "execution_count": 56,
   "id": "13ece5ae",
   "metadata": {},
   "outputs": [
    {
     "data": {
      "image/png": "[encoded data removed]",
      "text/plain": [
       "<Figure size 3000x1500 with 2 Axes>"
      ]
     },
     "metadata": {},
     "output_type": "display_data"
    }
   ],
   "source": [
    "plt.figure(figsize=(30, 15))\n",
    "sns.heatmap(happiness_merged.corr(numeric_only=True), annot=True, cmap='Spectral', linewidths=0.5)\n",
    "plt.title('Correlation Heatmap of Numeric Features')\n",
    "plt.show()"
   ]
  },
  {
   "cell_type": "markdown",
   "id": "fc11b371",
   "metadata": {},
   "source": [
    "The heatmap shows strong positive correlations between Happiness Score and GDP per Capita, Social Support, and Life Expectancy. Negative correlations are observed with Corruption and African regions. Regional indicators (Africa, Asia) tend to inversely relate to key well-being metrics, highlighting global disparities in happiness-related factors. "
   ]
  },
  {
   "cell_type": "markdown",
   "id": "577829cb",
   "metadata": {},
   "source": [
    "#### Global Happiness Score Trend (2005–2023)"
   ]
  },
  {
   "cell_type": "code",
   "execution_count": 57,
   "id": "e14ab549",
   "metadata": {},
   "outputs": [
    {
     "data": {
      "image/png": "[encoded data removed]",
      "text/plain": [
       "<Figure size 1200x600 with 1 Axes>"
      ]
     },
     "metadata": {},
     "output_type": "display_data"
    }
   ],
   "source": [
    "happiness_score = happiness_merged.groupby('Year')['Happiness Score'].mean().reset_index()\n",
    "happiness_score.head(2)\n",
    "#plot trends\n",
    "plt.figure(figsize=(12,6))\n",
    "plt.plot(happiness_score['Year'], happiness_score['Happiness Score'], marker='o', color='blue')\n",
    "plt.title('Average Happiness Score by Year')\n",
    "plt.xlabel('Year')\n",
    "plt.ylabel('Average Happines Score')\n",
    "plt.xticks(happiness_score['Year'].unique())\n",
    "plt.grid(True)\n",
    "plt.show()"
   ]
  },
  {
   "cell_type": "markdown",
   "id": "8577c974",
   "metadata": {},
   "source": [
    "The line graph shows average happiness scores by year, revealing a sharp drop after 2005, followed by fluctuations around zero. A noticeable increase occurred between 2018 and 2020, peaking in 2020. However, scores slightly declined again from 2021 to 2023, indicating short-term improvement followed by a gradual dip."
   ]
  },
  {
   "cell_type": "markdown",
   "id": "db158a35",
   "metadata": {},
   "source": [
    "#### Happiness Distribution"
   ]
  },
  {
   "cell_type": "code",
   "execution_count": 58,
   "id": "7d41cc1c",
   "metadata": {},
   "outputs": [
    {
     "data": {
      "image/png": "[encoded data removed]",
      "text/plain": [
       "<Figure size 1000x600 with 1 Axes>"
      ]
     },
     "metadata": {},
     "output_type": "display_data"
    }
   ],
   "source": [
    "plt.figure(figsize=(10, 6))\n",
    "sns.histplot(\n",
    "    data=happiness_merged,\n",
    "    x='Happiness Score',\n",
    "    bins=20,        # adjust number of bins as you like\n",
    "    kde=True,       # add a kernel density estimate\n",
    "    edgecolor='w'   # white edges for clarity\n",
    ")\n",
    "\n",
    "plt.title('Distribution of Happiness Scores', fontsize=14)\n",
    "plt.xlabel('Happiness Score', fontsize=12)\n",
    "plt.ylabel('Count', fontsize=12)\n",
    "plt.tight_layout()\n",
    "plt.show()"
   ]
  },
  {
   "cell_type": "markdown",
   "id": "41ae5f43",
   "metadata": {},
   "source": [
    "The histogram displays the distribution of happiness scores, showing a roughly normal distribution centered around zero. Most countries have scores between -1.5 and 1.5, indicating moderate levels of happiness. There are fewer extremely low or high scores, suggesting that extreme happiness or unhappiness is less common across the dataset."
   ]
  },
  {
   "cell_type": "markdown",
   "id": "c8f3cba4",
   "metadata": {},
   "source": [
    "#### Top 5 Happiest Countries (Latest Year)"
   ]
  },
  {
   "cell_type": "code",
   "execution_count": 59,
   "id": "4acc6ac2",
   "metadata": {},
   "outputs": [
    {
     "data": {
      "image/png": "[encoded data removed]",
      "text/plain": [
       "<Figure size 1000x600 with 1 Axes>"
      ]
     },
     "metadata": {},
     "output_type": "display_data"
    }
   ],
   "source": [
    "# Filter latest data and standardize country names\n",
    "latest_year = happiness_merged['Year'].max()\n",
    "latest_data = happiness_merged[happiness_merged['Year'] == latest_year].copy()\n",
    "\n",
    "# Drop duplicates and sort top 5\n",
    "latest_data_unique = latest_data.drop_duplicates(subset='Country')\n",
    "top_5 = latest_data_unique.sort_values(by='Happiness Score', ascending=False).head(5).sort_values('Happiness Score')\n",
    "\n",
    "# Plot top 5 happiest countries\n",
    "top_colors = sns.color_palette(\"Greens\", n_colors=5)\n",
    "plt.figure(figsize=(10, 6))\n",
    "sns.barplot(x='Happiness Score', y='Country', data=top_5, palette=top_colors)\n",
    "plt.gca().invert_yaxis()\n",
    "plt.title('Top 5 Happiest Countries (Latest Year)', fontsize=14)\n",
    "plt.xlabel('Happiness Score')\n",
    "plt.ylabel('Country')\n",
    "\n",
    "# Add value labels\n",
    "for i, v in enumerate(top_5['Happiness Score']):\n",
    "    plt.text(v + 0.02, i, f'{v:.2f}', va='center')\n",
    "\n",
    "plt.tight_layout()\n",
    "plt.show()\n"
   ]
  },
  {
   "cell_type": "markdown",
   "id": "7de8e2d8",
   "metadata": {},
   "source": [
    "The bar chart highlights the top 5 happiest countries in the latest year. Finland leads with the highest happiness score of 2.06, followed by Denmark (1.87) and Iceland (1.82). Israel and Netherlands round out the list with scores of 1.77 and 1.71, respectively, indicating strong well-being in these nations."
   ]
  },
  {
   "cell_type": "markdown",
   "id": "ba9600bd",
   "metadata": {},
   "source": [
    "#### Global Happiness Overview for 10 Countries"
   ]
  },
  {
   "cell_type": "code",
   "execution_count": 60,
   "id": "23b5bae6",
   "metadata": {},
   "outputs": [
    {
     "data": {
      "application/vnd.plotly.v1+json": {
       "config": {
        "plotlyServerURL": "https://plot.ly"
       },
       "data": [
        {
         "coloraxis": "coloraxis",
         "geo": "geo",
         "hovertemplate": "<b>%{hovertext}</b><br><br>Country=%{location}<br>Happiness Score=%{z}<extra></extra>",
         "hovertext": [
          "Afghanistan",
          "Albania",
          "Algeria",
          "Argentina",
          "Armenia",
          "Australia",
          "Austria",
          "Bahrain",
          "Bangladesh",
          "Belgium",
          "Benin",
          "Bolivia",
          "Bosnia and Herzegovina",
          "Botswana",
          "Brazil",
          "Bulgaria",
          "Burkina Faso",
          "Cambodia",
          "Cameroon",
          "Canada",
          "Chad",
          "Chile",
          "China",
          "Colombia",
          "Comoros",
          "Congo (Brazzaville)",
          "Congo (Kinshasa)",
          "Costa Rica",
          "Croatia",
          "Cyprus",
          "Czechia",
          "Denmark",
          "Dominican Republic",
          "Ecuador",
          "Egypt",
          "El Salvador",
          "Estonia",
          "Ethiopia",
          "Finland",
          "France",
          "Gabon",
          "Gambia",
          "Georgia",
          "Germany",
          "Ghana",
          "Greece",
          "Guatemala",
          "Guinea",
          "Honduras",
          "Hong Kong S.A.R. of China",
          "Hungary",
          "Iceland",
          "India",
          "Indonesia",
          "Iran",
          "Iraq",
          "Ireland",
          "Israel",
          "Italy",
          "Ivory Coast",
          "Jamaica",
          "Japan",
          "Jordan",
          "Kazakhstan",
          "Kenya",
          "Kosovo",
          "Kyrgyzstan",
          "Laos",
          "Latvia",
          "Lebanon",
          "Liberia",
          "Lithuania",
          "Luxembourg",
          "Madagascar",
          "Malawi",
          "Malaysia",
          "Mali",
          "Malta",
          "Mauritania",
          "Mauritius",
          "Mexico",
          "Moldova",
          "Mongolia",
          "Montenegro",
          "Morocco",
          "Mozambique",
          "Myanmar",
          "Namibia",
          "Nepal",
          "Netherlands",
          "New Zealand",
          "Nicaragua",
          "Niger",
          "Nigeria",
          "North Macedonia",
          "Norway",
          "Pakistan",
          "Panama",
          "Paraguay",
          "Peru",
          "Philippines",
          "Poland",
          "Portugal",
          "Romania",
          "Russia",
          "Saudi Arabia",
          "Senegal",
          "Serbia",
          "Sierra Leone",
          "Singapore",
          "Slovakia",
          "Slovenia",
          "South Africa",
          "South Korea",
          "Spain",
          "Sri Lanka",
          "State of Palestine",
          "Sweden",
          "Switzerland",
          "Taiwan Province of China",
          "Tajikistan",
          "Tanzania",
          "Thailand",
          "Togo",
          "Tunisia",
          "Turkiye",
          "Uganda",
          "Ukraine",
          "United Arab Emirates",
          "United Kingdom",
          "United States",
          "Uruguay",
          "Uzbekistan",
          "Venezuela",
          "Vietnam",
          "Zambia",
          "Zimbabwe"
         ],
         "locationmode": "country names",
         "locations": [
          "Afghanistan",
          "Albania",
          "Algeria",
          "Argentina",
          "Armenia",
          "Australia",
          "Austria",
          "Bahrain",
          "Bangladesh",
          "Belgium",
          "Benin",
          "Bolivia",
          "Bosnia and Herzegovina",
          "Botswana",
          "Brazil",
          "Bulgaria",
          "Burkina Faso",
          "Cambodia",
          "Cameroon",
          "Canada",
          "Chad",
          "Chile",
          "China",
          "Colombia",
          "Comoros",
          "Congo (Brazzaville)",
          "Congo (Kinshasa)",
          "Costa Rica",
          "Croatia",
          "Cyprus",
          "Czechia",
          "Denmark",
          "Dominican Republic",
          "Ecuador",
          "Egypt",
          "El Salvador",
          "Estonia",
          "Ethiopia",
          "Finland",
          "France",
          "Gabon",
          "Gambia",
          "Georgia",
          "Germany",
          "Ghana",
          "Greece",
          "Guatemala",
          "Guinea",
          "Honduras",
          "Hong Kong S.A.R. of China",
          "Hungary",
          "Iceland",
          "India",
          "Indonesia",
          "Iran",
          "Iraq",
          "Ireland",
          "Israel",
          "Italy",
          "Ivory Coast",
          "Jamaica",
          "Japan",
          "Jordan",
          "Kazakhstan",
          "Kenya",
          "Kosovo",
          "Kyrgyzstan",
          "Laos",
          "Latvia",
          "Lebanon",
          "Liberia",
          "Lithuania",
          "Luxembourg",
          "Madagascar",
          "Malawi",
          "Malaysia",
          "Mali",
          "Malta",
          "Mauritania",
          "Mauritius",
          "Mexico",
          "Moldova",
          "Mongolia",
          "Montenegro",
          "Morocco",
          "Mozambique",
          "Myanmar",
          "Namibia",
          "Nepal",
          "Netherlands",
          "New Zealand",
          "Nicaragua",
          "Niger",
          "Nigeria",
          "North Macedonia",
          "Norway",
          "Pakistan",
          "Panama",
          "Paraguay",
          "Peru",
          "Philippines",
          "Poland",
          "Portugal",
          "Romania",
          "Russia",
          "Saudi Arabia",
          "Senegal",
          "Serbia",
          "Sierra Leone",
          "Singapore",
          "Slovakia",
          "Slovenia",
          "South Africa",
          "South Korea",
          "Spain",
          "Sri Lanka",
          "State of Palestine",
          "Sweden",
          "Switzerland",
          "Taiwan Province of China",
          "Tajikistan",
          "Tanzania",
          "Thailand",
          "Togo",
          "Tunisia",
          "Turkiye",
          "Uganda",
          "Ukraine",
          "United Arab Emirates",
          "United Kingdom",
          "United States",
          "Uruguay",
          "Uzbekistan",
          "Venezuela",
          "Vietnam",
          "Zambia",
          "Zimbabwe"
         ],
         "name": "",
         "type": "choropleth",
         "z": [
          -3.218337629687052,
          -0.1827561590384528,
          -0.1365741120888548,
          0.4806667077182772,
          -0.12502860035145533,
          1.4318392516225045,
          1.4336154841974895,
          0.6129960345546264,
          -1.0664318650932674,
          1.2222438077743276,
          -0.9847251666439784,
          0.17870716997090352,
          0.1334132393087973,
          -1.818666360599225,
          0.5703664527549971,
          -0.014902180702412608,
          -0.7502624667460174,
          -0.9678509571816251,
          -0.45274351043610495,
          1.31283166909854,
          -0.9642984920316555,
          0.7559827568408823,
          0.297714752494868,
          0.13074889044632038,
          -1.720973568975075,
          -0.19163732191337537,
          -2.021156874147464,
          1.0002147359012585,
          0.5703664527549971,
          0.5748070341924584,
          1.2098101797494356,
          1.8679043487812124,
          0.0765737969092916,
          0.06769263403436902,
          -1.1659008892924025,
          0.5677021038925202,
          0.8634448276274481,
          -1.236062076004292,
          2.0615136994545287,
          1.0463967828508567,
          -0.3976803006115836,
          -1.0690962139557443,
          -0.3319596953371553,
          1.251551645261573,
          -0.779570304233262,
          0.3980718929814956,
          0.5925693599423043,
          -0.3648199979743694,
          0.4797785914307846,
          -0.15522455412619252,
          0.4957646846056462,
          1.818169836681645,
          -1.2849084718163677,
          -0.1827561590384528,
          -0.5388907903228553,
          -0.4811632316358578,
          1.2684258547239255,
          1.767547208294585,
          0.8190390132528346,
          -0.3816942074367228,
          0.19558137943325687,
          0.5739189179049657,
          -1.210306703667016,
          0.5872406622173504,
          -0.8843680261573508,
          0.7861787106156204,
          0.30393156650731445,
          -0.3301834627621709,
          0.6485206860543175,
          -2.744971648453669,
          -1.2795797740914139,
          1.136984644175069,
          1.549958717858977,
          -1.300006448703736,
          -1.7653793833496885,
          0.4700093122683695,
          -1.1410336332426183,
          0.7257868030661452,
          -0.6738844660216813,
          0.37231652064421966,
          0.7524302916909137,
          0.2986028687823606,
          0.31725331081969826,
          0.21245558889561023,
          -0.5149116505605645,
          -0.4696177198984583,
          -0.9865013992189627,
          -0.7564792807584629,
          -0.10904250717659374,
          1.7053790681701253,
          1.4567065076722887,
          0.6893740352789623,
          -0.8719343981324588,
          -0.4456385801361667,
          -0.20318283365077566,
          1.6272248348708058,
          -0.8239761186078765,
          0.6947027330039154,
          0.22666544949548667,
          0.0383847965471236,
          0.03572044768464667,
          0.6902621515664541,
          0.4309321956187097,
          0.9824524101514135,
          0.15828049535858066,
          0.8705497579273864,
          -0.557541232360193,
          0.5872406622173504,
          -2.082436897984431,
          0.9806761775764283,
          0.8758784556523402,
          1.0366275036884423,
          -0.18453239161343715,
          0.4158342187313407,
          0.8465706181650948,
          -0.9243332590945031,
          -0.5104710691231025,
          1.698274137870187,
          1.560616113308885,
          0.9344941306268303,
          -0.13568599580136223,
          -1.5886442421387257,
          0.3199176596821752,
          -1.1952087267796478,
          -0.8754868632824282,
          -0.771577257645832,
          -0.9332144219694257,
          -0.365708114261862,
          0.9664663169765518,
          1.1662924816623144,
          1.2533278778365573,
          0.8980813628396467,
          0.4717855448433546,
          -0.24137183401294288,
          0.24886835668279308,
          -1.33286675134095,
          -2.0238212230099406
         ]
        }
       ],
       "layout": {
        "coloraxis": {
         "cmax": 2.0615136994545287,
         "cmin": -3.218337629687052,
         "colorbar": {
          "title": {
           "text": "Happiness Score"
          }
         },
         "colorscale": [
          [
           0,
           "rgb(165,0,38)"
          ],
          [
           0.1,
           "rgb(215,48,39)"
          ],
          [
           0.2,
           "rgb(244,109,67)"
          ],
          [
           0.3,
           "rgb(253,174,97)"
          ],
          [
           0.4,
           "rgb(254,224,139)"
          ],
          [
           0.5,
           "rgb(255,255,191)"
          ],
          [
           0.6,
           "rgb(217,239,139)"
          ],
          [
           0.7,
           "rgb(166,217,106)"
          ],
          [
           0.8,
           "rgb(102,189,99)"
          ],
          [
           0.9,
           "rgb(26,152,80)"
          ],
          [
           1,
           "rgb(0,104,55)"
          ]
         ]
        },
        "geo": {
         "center": {},
         "domain": {
          "x": [
           0,
           1
          ],
          "y": [
           0,
           1
          ]
         },
         "showcoastlines": true,
         "showframe": false
        },
        "legend": {
         "tracegroupgap": 0
        },
        "margin": {
         "b": 0,
         "l": 0,
         "r": 0,
         "t": 40
        },
        "template": {
         "data": {
          "bar": [
           {
            "error_x": {
             "color": "#2a3f5f"
            },
            "error_y": {
             "color": "#2a3f5f"
            },
            "marker": {
             "line": {
              "color": "#E5ECF6",
              "width": 0.5
             },
             "pattern": {
              "fillmode": "overlay",
              "size": 10,
              "solidity": 0.2
             }
            },
            "type": "bar"
           }
          ],
          "barpolar": [
           {
            "marker": {
             "line": {
              "color": "#E5ECF6",
              "width": 0.5
             },
             "pattern": {
              "fillmode": "overlay",
              "size": 10,
              "solidity": 0.2
             }
            },
            "type": "barpolar"
           }
          ],
          "carpet": [
           {
            "aaxis": {
             "endlinecolor": "#2a3f5f",
             "gridcolor": "white",
             "linecolor": "white",
             "minorgridcolor": "white",
             "startlinecolor": "#2a3f5f"
            },
            "baxis": {
             "endlinecolor": "#2a3f5f",
             "gridcolor": "white",
             "linecolor": "white",
             "minorgridcolor": "white",
             "startlinecolor": "#2a3f5f"
            },
            "type": "carpet"
           }
          ],
          "choropleth": [
           {
            "colorbar": {
             "outlinewidth": 0,
             "ticks": ""
            },
            "type": "choropleth"
           }
          ],
          "contour": [
           {
            "colorbar": {
             "outlinewidth": 0,
             "ticks": ""
            },
            "colorscale": [
             [
              0,
              "#0d0887"
             ],
             [
              0.1111111111111111,
              "#46039f"
             ],
             [
              0.2222222222222222,
              "#7201a8"
             ],
             [
              0.3333333333333333,
              "#9c179e"
             ],
             [
              0.4444444444444444,
              "#bd3786"
             ],
             [
              0.5555555555555556,
              "#d8576b"
             ],
             [
              0.6666666666666666,
              "#ed7953"
             ],
             [
              0.7777777777777778,
              "#fb9f3a"
             ],
             [
              0.8888888888888888,
              "#fdca26"
             ],
             [
              1,
              "#f0f921"
             ]
            ],
            "type": "contour"
           }
          ],
          "contourcarpet": [
           {
            "colorbar": {
             "outlinewidth": 0,
             "ticks": ""
            },
            "type": "contourcarpet"
           }
          ],
          "heatmap": [
           {
            "colorbar": {
             "outlinewidth": 0,
             "ticks": ""
            },
            "colorscale": [
             [
              0,
              "#0d0887"
             ],
             [
              0.1111111111111111,
              "#46039f"
             ],
             [
              0.2222222222222222,
              "#7201a8"
             ],
             [
              0.3333333333333333,
              "#9c179e"
             ],
             [
              0.4444444444444444,
              "#bd3786"
             ],
             [
              0.5555555555555556,
              "#d8576b"
             ],
             [
              0.6666666666666666,
              "#ed7953"
             ],
             [
              0.7777777777777778,
              "#fb9f3a"
             ],
             [
              0.8888888888888888,
              "#fdca26"
             ],
             [
              1,
              "#f0f921"
             ]
            ],
            "type": "heatmap"
           }
          ],
          "heatmapgl": [
           {
            "colorbar": {
             "outlinewidth": 0,
             "ticks": ""
            },
            "colorscale": [
             [
              0,
              "#0d0887"
             ],
             [
              0.1111111111111111,
              "#46039f"
             ],
             [
              0.2222222222222222,
              "#7201a8"
             ],
             [
              0.3333333333333333,
              "#9c179e"
             ],
             [
              0.4444444444444444,
              "#bd3786"
             ],
             [
              0.5555555555555556,
              "#d8576b"
             ],
             [
              0.6666666666666666,
              "#ed7953"
             ],
             [
              0.7777777777777778,
              "#fb9f3a"
             ],
             [
              0.8888888888888888,
              "#fdca26"
             ],
             [
              1,
              "#f0f921"
             ]
            ],
            "type": "heatmapgl"
           }
          ],
          "histogram": [
           {
            "marker": {
             "pattern": {
              "fillmode": "overlay",
              "size": 10,
              "solidity": 0.2
             }
            },
            "type": "histogram"
           }
          ],
          "histogram2d": [
           {
            "colorbar": {
             "outlinewidth": 0,
             "ticks": ""
            },
            "colorscale": [
             [
              0,
              "#0d0887"
             ],
             [
              0.1111111111111111,
              "#46039f"
             ],
             [
              0.2222222222222222,
              "#7201a8"
             ],
             [
              0.3333333333333333,
              "#9c179e"
             ],
             [
              0.4444444444444444,
              "#bd3786"
             ],
             [
              0.5555555555555556,
              "#d8576b"
             ],
             [
              0.6666666666666666,
              "#ed7953"
             ],
             [
              0.7777777777777778,
              "#fb9f3a"
             ],
             [
              0.8888888888888888,
              "#fdca26"
             ],
             [
              1,
              "#f0f921"
             ]
            ],
            "type": "histogram2d"
           }
          ],
          "histogram2dcontour": [
           {
            "colorbar": {
             "outlinewidth": 0,
             "ticks": ""
            },
            "colorscale": [
             [
              0,
              "#0d0887"
             ],
             [
              0.1111111111111111,
              "#46039f"
             ],
             [
              0.2222222222222222,
              "#7201a8"
             ],
             [
              0.3333333333333333,
              "#9c179e"
             ],
             [
              0.4444444444444444,
              "#bd3786"
             ],
             [
              0.5555555555555556,
              "#d8576b"
             ],
             [
              0.6666666666666666,
              "#ed7953"
             ],
             [
              0.7777777777777778,
              "#fb9f3a"
             ],
             [
              0.8888888888888888,
              "#fdca26"
             ],
             [
              1,
              "#f0f921"
             ]
            ],
            "type": "histogram2dcontour"
           }
          ],
          "mesh3d": [
           {
            "colorbar": {
             "outlinewidth": 0,
             "ticks": ""
            },
            "type": "mesh3d"
           }
          ],
          "parcoords": [
           {
            "line": {
             "colorbar": {
              "outlinewidth": 0,
              "ticks": ""
             }
            },
            "type": "parcoords"
           }
          ],
          "pie": [
           {
            "automargin": true,
            "type": "pie"
           }
          ],
          "scatter": [
           {
            "fillpattern": {
             "fillmode": "overlay",
             "size": 10,
             "solidity": 0.2
            },
            "type": "scatter"
           }
          ],
          "scatter3d": [
           {
            "line": {
             "colorbar": {
              "outlinewidth": 0,
              "ticks": ""
             }
            },
            "marker": {
             "colorbar": {
              "outlinewidth": 0,
              "ticks": ""
             }
            },
            "type": "scatter3d"
           }
          ],
          "scattercarpet": [
           {
            "marker": {
             "colorbar": {
              "outlinewidth": 0,
              "ticks": ""
             }
            },
            "type": "scattercarpet"
           }
          ],
          "scattergeo": [
           {
            "marker": {
             "colorbar": {
              "outlinewidth": 0,
              "ticks": ""
             }
            },
            "type": "scattergeo"
           }
          ],
          "scattergl": [
           {
            "marker": {
             "colorbar": {
              "outlinewidth": 0,
              "ticks": ""
             }
            },
            "type": "scattergl"
           }
          ],
          "scattermapbox": [
           {
            "marker": {
             "colorbar": {
              "outlinewidth": 0,
              "ticks": ""
             }
            },
            "type": "scattermapbox"
           }
          ],
          "scatterpolar": [
           {
            "marker": {
             "colorbar": {
              "outlinewidth": 0,
              "ticks": ""
             }
            },
            "type": "scatterpolar"
           }
          ],
          "scatterpolargl": [
           {
            "marker": {
             "colorbar": {
              "outlinewidth": 0,
              "ticks": ""
             }
            },
            "type": "scatterpolargl"
           }
          ],
          "scatterternary": [
           {
            "marker": {
             "colorbar": {
              "outlinewidth": 0,
              "ticks": ""
             }
            },
            "type": "scatterternary"
           }
          ],
          "surface": [
           {
            "colorbar": {
             "outlinewidth": 0,
             "ticks": ""
            },
            "colorscale": [
             [
              0,
              "#0d0887"
             ],
             [
              0.1111111111111111,
              "#46039f"
             ],
             [
              0.2222222222222222,
              "#7201a8"
             ],
             [
              0.3333333333333333,
              "#9c179e"
             ],
             [
              0.4444444444444444,
              "#bd3786"
             ],
             [
              0.5555555555555556,
              "#d8576b"
             ],
             [
              0.6666666666666666,
              "#ed7953"
             ],
             [
              0.7777777777777778,
              "#fb9f3a"
             ],
             [
              0.8888888888888888,
              "#fdca26"
             ],
             [
              1,
              "#f0f921"
             ]
            ],
            "type": "surface"
           }
          ],
          "table": [
           {
            "cells": {
             "fill": {
              "color": "#EBF0F8"
             },
             "line": {
              "color": "white"
             }
            },
            "header": {
             "fill": {
              "color": "#C8D4E3"
             },
             "line": {
              "color": "white"
             }
            },
            "type": "table"
           }
          ]
         },
         "layout": {
          "annotationdefaults": {
           "arrowcolor": "#2a3f5f",
           "arrowhead": 0,
           "arrowwidth": 1
          },
          "autotypenumbers": "strict",
          "coloraxis": {
           "colorbar": {
            "outlinewidth": 0,
            "ticks": ""
           }
          },
          "colorscale": {
           "diverging": [
            [
             0,
             "#8e0152"
            ],
            [
             0.1,
             "#c51b7d"
            ],
            [
             0.2,
             "#de77ae"
            ],
            [
             0.3,
             "#f1b6da"
            ],
            [
             0.4,
             "#fde0ef"
            ],
            [
             0.5,
             "#f7f7f7"
            ],
            [
             0.6,
             "#e6f5d0"
            ],
            [
             0.7,
             "#b8e186"
            ],
            [
             0.8,
             "#7fbc41"
            ],
            [
             0.9,
             "#4d9221"
            ],
            [
             1,
             "#276419"
            ]
           ],
           "sequential": [
            [
             0,
             "#0d0887"
            ],
            [
             0.1111111111111111,
             "#46039f"
            ],
            [
             0.2222222222222222,
             "#7201a8"
            ],
            [
             0.3333333333333333,
             "#9c179e"
            ],
            [
             0.4444444444444444,
             "#bd3786"
            ],
            [
             0.5555555555555556,
             "#d8576b"
            ],
            [
             0.6666666666666666,
             "#ed7953"
            ],
            [
             0.7777777777777778,
             "#fb9f3a"
            ],
            [
             0.8888888888888888,
             "#fdca26"
            ],
            [
             1,
             "#f0f921"
            ]
           ],
           "sequentialminus": [
            [
             0,
             "#0d0887"
            ],
            [
             0.1111111111111111,
             "#46039f"
            ],
            [
             0.2222222222222222,
             "#7201a8"
            ],
            [
             0.3333333333333333,
             "#9c179e"
            ],
            [
             0.4444444444444444,
             "#bd3786"
            ],
            [
             0.5555555555555556,
             "#d8576b"
            ],
            [
             0.6666666666666666,
             "#ed7953"
            ],
            [
             0.7777777777777778,
             "#fb9f3a"
            ],
            [
             0.8888888888888888,
             "#fdca26"
            ],
            [
             1,
             "#f0f921"
            ]
           ]
          },
          "colorway": [
           "#636efa",
           "#EF553B",
           "#00cc96",
           "#ab63fa",
           "#FFA15A",
           "#19d3f3",
           "#FF6692",
           "#B6E880",
           "#FF97FF",
           "#FECB52"
          ],
          "font": {
           "color": "#2a3f5f"
          },
          "geo": {
           "bgcolor": "white",
           "lakecolor": "white",
           "landcolor": "#E5ECF6",
           "showlakes": true,
           "showland": true,
           "subunitcolor": "white"
          },
          "hoverlabel": {
           "align": "left"
          },
          "hovermode": "closest",
          "mapbox": {
           "style": "light"
          },
          "paper_bgcolor": "white",
          "plot_bgcolor": "#E5ECF6",
          "polar": {
           "angularaxis": {
            "gridcolor": "white",
            "linecolor": "white",
            "ticks": ""
           },
           "bgcolor": "#E5ECF6",
           "radialaxis": {
            "gridcolor": "white",
            "linecolor": "white",
            "ticks": ""
           }
          },
          "scene": {
           "xaxis": {
            "backgroundcolor": "#E5ECF6",
            "gridcolor": "white",
            "gridwidth": 2,
            "linecolor": "white",
            "showbackground": true,
            "ticks": "",
            "zerolinecolor": "white"
           },
           "yaxis": {
            "backgroundcolor": "#E5ECF6",
            "gridcolor": "white",
            "gridwidth": 2,
            "linecolor": "white",
            "showbackground": true,
            "ticks": "",
            "zerolinecolor": "white"
           },
           "zaxis": {
            "backgroundcolor": "#E5ECF6",
            "gridcolor": "white",
            "gridwidth": 2,
            "linecolor": "white",
            "showbackground": true,
            "ticks": "",
            "zerolinecolor": "white"
           }
          },
          "shapedefaults": {
           "line": {
            "color": "#2a3f5f"
           }
          },
          "ternary": {
           "aaxis": {
            "gridcolor": "white",
            "linecolor": "white",
            "ticks": ""
           },
           "baxis": {
            "gridcolor": "white",
            "linecolor": "white",
            "ticks": ""
           },
           "bgcolor": "#E5ECF6",
           "caxis": {
            "gridcolor": "white",
            "linecolor": "white",
            "ticks": ""
           }
          },
          "title": {
           "x": 0.05
          },
          "xaxis": {
           "automargin": true,
           "gridcolor": "white",
           "linecolor": "white",
           "ticks": "",
           "title": {
            "standoff": 15
           },
           "zerolinecolor": "white",
           "zerolinewidth": 2
          },
          "yaxis": {
           "automargin": true,
           "gridcolor": "white",
           "linecolor": "white",
           "ticks": "",
           "title": {
            "standoff": 15
           },
           "zerolinecolor": "white",
           "zerolinewidth": 2
          }
         }
        },
        "title": {
         "text": "Happiness Score by Country (2023)"
        }
       }
      }
     },
     "metadata": {},
     "output_type": "display_data"
    }
   ],
   "source": [
    "#  Drop duplicate countries\n",
    "latest_data_unique1 = latest_data.query(\"Year == @latest_year\").drop_duplicates('Country')\n",
    "latest_year = happiness_merged['Year'].max()\n",
    "\n",
    "#  Add Latitude and Longitude\n",
    "gc = geonamescache.GeonamesCache()\n",
    "\n",
    "# dictionary of country (no lat/lon)\n",
    "countries = gc.get_countries()   \n",
    "# dictionary of city (has lat/lon)\n",
    "cities = gc.get_cities()      \n",
    "\n",
    "# Build country by matching each country’s capital\n",
    "coordinates = {}\n",
    "for c in countries.values():\n",
    "    cname  = c['name']\n",
    "    cap    = c['capital']\n",
    "    iso2   = c['iso'] # 2‑letter code, e.g. 'US', 'CN'\n",
    "\n",
    "    # find the city entry for that capital\n",
    "    match = next(\n",
    "        (ci for ci in cities.values()\n",
    "         if ci['countrycode'] == iso2 and ci['name'] == cap),\n",
    "        None\n",
    "    )\n",
    "    if match:\n",
    "        coordinates[cname] = (\n",
    "            float(match['latitude']),\n",
    "            float(match['longitude'])\n",
    "        )\n",
    "    else:\n",
    "        coordinates[cname] = (None, None)\n",
    "\n",
    "\n",
    "# Map coordinates\n",
    "latest_data_unique1['Latitude'] = latest_data_unique1['Country'].map(lambda x: coordinates.get(x, (None, None))[0])\n",
    "latest_data_unique1['Longitude'] = latest_data_unique1['Country'].map(lambda x: coordinates.get(x, (None, None))[1])\n",
    "\n",
    "# Add hover text\n",
    "# latest_data_unique1['Hover'] = latest_data_unique1['Country'] + ': ' + latest_data_unique1['Happiness_Score'].astype(str)\n",
    "# min_score = latest_data_unique1['Happiness_Score'].min()\n",
    "# max_score = latest_data_unique1['Happiness_Score'].max()\n",
    "\n",
    "# Create choropleth map\n",
    "min_score = latest_data_unique1['Happiness Score'].min()\n",
    "max_score = latest_data_unique1['Happiness Score'].max()\n",
    "\n",
    "fig = px.choropleth(\n",
    "    latest_data_unique1,\n",
    "    locations='Country',\n",
    "    locationmode='country names',\n",
    "    color='Happiness Score',\n",
    "    hover_name='Country',\n",
    "    color_continuous_scale='RdYlGn',\n",
    "    range_color=(min_score, max_score),\n",
    "    title=f'Happiness Score by Country ({latest_year})'\n",
    ")\n",
    "\n",
    "# Final layout\n",
    "fig.update_layout(\n",
    "    geo=dict(showframe=False, showcoastlines=True),\n",
    "    margin={\"r\": 0, \"t\": 40, \"l\": 0, \"b\": 0}\n",
    ")\n",
    "\n",
    "fig.show()"
   ]
  },
  {
   "cell_type": "markdown",
   "id": "ad0f861f",
   "metadata": {},
   "source": [
    "The world map illustrates the Happiness Score by Country for 2023. Countries in Northern and Western Europe, North America, and Oceania display the highest happiness scores (darker green), while parts of Africa, the Middle East, and South Asia show the lowest scores (shaded red to orange), highlighting global disparities in well-being."
   ]
  },
  {
   "cell_type": "markdown",
   "id": "71df856c",
   "metadata": {},
   "source": [
    "## Fitting Models\n",
    "\n",
    "### Regression Models"
   ]
  },
  {
   "cell_type": "markdown",
   "id": "b14eceff",
   "metadata": {},
   "source": [
    "#### 1. Linear Regression"
   ]
  },
  {
   "cell_type": "code",
   "execution_count": 61,
   "id": "69d41841",
   "metadata": {},
   "outputs": [],
   "source": [
    "y = happiness_merged['Happiness Score']\n",
    "#  Drop categorical + target\n",
    "X_all = happiness_merged.drop(columns=['Happiness Score', 'Year'])\n",
    "# Get numeric features only\n",
    "features = [col for col in X_all.columns if X_all[col].dtype in ['float64', 'int64']]\n",
    "# Store results\n",
    "results = []\n",
    "predictions = {}\n",
    "# Apply SLR for each feature\n",
    "for feature in features:\n",
    "    X = happiness_merged[[feature]]\n",
    "    y = happiness_merged['Happiness Score']\n",
    "\n",
    "    # Drop missing values\n",
    "    Xy = pd.concat([X, y], axis=1).dropna()\n",
    "    X = Xy[[feature]]\n",
    "    y = Xy['Happiness Score']\n",
    "\n",
    "    # Split data\n",
    "    X_train, X_test, y_train, y_test = train_test_split(X, y, test_size=0.2, random_state=42)\n",
    "\n",
    "    # Train model\n",
    "    model = LinearRegression()\n",
    "    model.fit(X_train, y_train)\n",
    "    y_pred = model.predict(X_test)\n",
    "    predictions[feature] = (y_test, y_pred)\n"
   ]
  },
  {
   "cell_type": "markdown",
   "id": "e68cf3ee",
   "metadata": {},
   "source": [
    "- Model Performance Evaluation"
   ]
  },
  {
   "cell_type": "code",
   "execution_count": 62,
   "id": "09f313ca",
   "metadata": {},
   "outputs": [
    {
     "name": "stdout",
     "output_type": "stream",
     "text": [
      "GDP per Capita → R²: 0.5834\n",
      "Social Support → R²: 0.4629\n",
      "Life Expectancy → R²: 0.4777\n",
      "Freedom → R²: 0.2364\n",
      "Generosity → R²: 0.0273\n",
      "Corruption → R²: 0.1280\n"
     ]
    }
   ],
   "source": [
    "# Evaluate R² for each feature\n",
    "for feature, (y_test, y_pred) in predictions.items():\n",
    "    r2 = r2_score(y_test, y_pred)\n",
    "    results.append((feature, r2))\n",
    "    print(f\"{feature} → R²: {r2:.4f}\")"
   ]
  },
  {
   "cell_type": "markdown",
   "id": "9a5169ec",
   "metadata": {},
   "source": [
    "Among the individual predictors of happiness:\n",
    "\n",
    "- GDP per Capita showed the strongest relationship with Happiness Score (R² = 0.5834), indicating it explains nearly 58% of the variance.\n",
    "\n",
    "- Life Expectancy (R² = 0.4777) and Social Support (R² = 0.4629) also had moderate explanatory power, making them important factors.\n",
    "\n",
    "- Freedom (R² = 0.2364) had a weaker but still notable influence.\n",
    "\n",
    "- Corruption (R² = 0.1280) and Generosity (R² = 0.0273) showed minimal explanatory power, suggesting weaker direct impact on happiness in isolation.\n",
    "\n",
    "Overall, economic and health-related factors were the most predictive of happiness, while subjective and social factors had relatively less influence individually."
   ]
  },
  {
   "cell_type": "markdown",
   "id": "ca64d9ed",
   "metadata": {},
   "source": [
    "#### 2. Multiple Linear Regression"
   ]
  },
  {
   "cell_type": "code",
   "execution_count": 63,
   "id": "417254be",
   "metadata": {},
   "outputs": [
    {
     "data": {
      "text/html": [
       "<div>\n",
       "<style scoped>\n",
       "    .dataframe tbody tr th:only-of-type {\n",
       "        vertical-align: middle;\n",
       "    }\n",
       "\n",
       "    .dataframe tbody tr th {\n",
       "        vertical-align: top;\n",
       "    }\n",
       "\n",
       "    .dataframe thead th {\n",
       "        text-align: right;\n",
       "    }\n",
       "</style>\n",
       "<table border=\"1\" class=\"dataframe\">\n",
       "  <thead>\n",
       "    <tr style=\"text-align: right;\">\n",
       "      <th></th>\n",
       "      <th>Country</th>\n",
       "      <th>Year</th>\n",
       "      <th>Happiness Score</th>\n",
       "      <th>GDP per Capita</th>\n",
       "      <th>Social Support</th>\n",
       "      <th>Life Expectancy</th>\n",
       "      <th>Freedom</th>\n",
       "      <th>Generosity</th>\n",
       "      <th>Corruption</th>\n",
       "      <th>Africa</th>\n",
       "      <th>Asia</th>\n",
       "      <th>Europe</th>\n",
       "      <th>North America</th>\n",
       "      <th>Oceania</th>\n",
       "      <th>South America</th>\n",
       "    </tr>\n",
       "  </thead>\n",
       "  <tbody>\n",
       "    <tr>\n",
       "      <th>0</th>\n",
       "      <td>Afghanistan</td>\n",
       "      <td>2008</td>\n",
       "      <td>-1.562001</td>\n",
       "      <td>-1.775583</td>\n",
       "      <td>-2.965453</td>\n",
       "      <td>-1.910372</td>\n",
       "      <td>-0.235656</td>\n",
       "      <td>1.061774</td>\n",
       "      <td>0.747347</td>\n",
       "      <td>0</td>\n",
       "      <td>1</td>\n",
       "      <td>0</td>\n",
       "      <td>0</td>\n",
       "      <td>0</td>\n",
       "      <td>0</td>\n",
       "    </tr>\n",
       "    <tr>\n",
       "      <th>1</th>\n",
       "      <td>Afghanistan</td>\n",
       "      <td>2009</td>\n",
       "      <td>-0.959858</td>\n",
       "      <td>-1.637479</td>\n",
       "      <td>-2.131489</td>\n",
       "      <td>-1.866063</td>\n",
       "      <td>-0.518377</td>\n",
       "      <td>1.207781</td>\n",
       "      <td>0.570567</td>\n",
       "      <td>0</td>\n",
       "      <td>1</td>\n",
       "      <td>0</td>\n",
       "      <td>0</td>\n",
       "      <td>0</td>\n",
       "      <td>0</td>\n",
       "    </tr>\n",
       "    <tr>\n",
       "      <th>2</th>\n",
       "      <td>Afghanistan</td>\n",
       "      <td>2010</td>\n",
       "      <td>-0.643689</td>\n",
       "      <td>-1.546279</td>\n",
       "      <td>-2.238831</td>\n",
       "      <td>-1.821754</td>\n",
       "      <td>-1.091067</td>\n",
       "      <td>0.763412</td>\n",
       "      <td>-0.219416</td>\n",
       "      <td>0</td>\n",
       "      <td>1</td>\n",
       "      <td>0</td>\n",
       "      <td>0</td>\n",
       "      <td>0</td>\n",
       "      <td>0</td>\n",
       "    </tr>\n",
       "    <tr>\n",
       "      <th>3</th>\n",
       "      <td>Afghanistan</td>\n",
       "      <td>2011</td>\n",
       "      <td>-1.466084</td>\n",
       "      <td>-1.574942</td>\n",
       "      <td>-2.387458</td>\n",
       "      <td>-1.777445</td>\n",
       "      <td>-1.844987</td>\n",
       "      <td>1.036381</td>\n",
       "      <td>-0.086831</td>\n",
       "      <td>0</td>\n",
       "      <td>1</td>\n",
       "      <td>0</td>\n",
       "      <td>0</td>\n",
       "      <td>0</td>\n",
       "      <td>0</td>\n",
       "    </tr>\n",
       "    <tr>\n",
       "      <th>4</th>\n",
       "      <td>Afghanistan</td>\n",
       "      <td>2012</td>\n",
       "      <td>-1.509602</td>\n",
       "      <td>-1.505456</td>\n",
       "      <td>-2.387458</td>\n",
       "      <td>-1.733137</td>\n",
       "      <td>-1.591264</td>\n",
       "      <td>1.506143</td>\n",
       "      <td>0.161765</td>\n",
       "      <td>0</td>\n",
       "      <td>1</td>\n",
       "      <td>0</td>\n",
       "      <td>0</td>\n",
       "      <td>0</td>\n",
       "      <td>0</td>\n",
       "    </tr>\n",
       "    <tr>\n",
       "      <th>...</th>\n",
       "      <td>...</td>\n",
       "      <td>...</td>\n",
       "      <td>...</td>\n",
       "      <td>...</td>\n",
       "      <td>...</td>\n",
       "      <td>...</td>\n",
       "      <td>...</td>\n",
       "      <td>...</td>\n",
       "      <td>...</td>\n",
       "      <td>...</td>\n",
       "      <td>...</td>\n",
       "      <td>...</td>\n",
       "      <td>...</td>\n",
       "      <td>...</td>\n",
       "      <td>...</td>\n",
       "    </tr>\n",
       "    <tr>\n",
       "      <th>2331</th>\n",
       "      <td>Zimbabwe</td>\n",
       "      <td>2019</td>\n",
       "      <td>-2.476761</td>\n",
       "      <td>-1.473318</td>\n",
       "      <td>-0.422277</td>\n",
       "      <td>-1.526362</td>\n",
       "      <td>-0.859091</td>\n",
       "      <td>-0.303074</td>\n",
       "      <td>0.465604</td>\n",
       "      <td>1</td>\n",
       "      <td>0</td>\n",
       "      <td>0</td>\n",
       "      <td>0</td>\n",
       "      <td>0</td>\n",
       "      <td>0</td>\n",
       "    </tr>\n",
       "    <tr>\n",
       "      <th>2332</th>\n",
       "      <td>Zimbabwe</td>\n",
       "      <td>2020</td>\n",
       "      <td>-2.062898</td>\n",
       "      <td>-1.561913</td>\n",
       "      <td>-0.769074</td>\n",
       "      <td>-1.456207</td>\n",
       "      <td>-0.779349</td>\n",
       "      <td>0.033377</td>\n",
       "      <td>0.233581</td>\n",
       "      <td>1</td>\n",
       "      <td>0</td>\n",
       "      <td>0</td>\n",
       "      <td>0</td>\n",
       "      <td>0</td>\n",
       "      <td>0</td>\n",
       "    </tr>\n",
       "    <tr>\n",
       "      <th>2333</th>\n",
       "      <td>Zimbabwe</td>\n",
       "      <td>2021</td>\n",
       "      <td>-2.067339</td>\n",
       "      <td>-1.508930</td>\n",
       "      <td>-1.033300</td>\n",
       "      <td>-1.386051</td>\n",
       "      <td>-0.598118</td>\n",
       "      <td>-0.487170</td>\n",
       "      <td>0.056802</td>\n",
       "      <td>1</td>\n",
       "      <td>0</td>\n",
       "      <td>0</td>\n",
       "      <td>0</td>\n",
       "      <td>0</td>\n",
       "      <td>0</td>\n",
       "    </tr>\n",
       "    <tr>\n",
       "      <th>2334</th>\n",
       "      <td>Zimbabwe</td>\n",
       "      <td>2022</td>\n",
       "      <td>-1.942115</td>\n",
       "      <td>-1.497638</td>\n",
       "      <td>-1.190184</td>\n",
       "      <td>-1.315896</td>\n",
       "      <td>-0.714106</td>\n",
       "      <td>-0.449081</td>\n",
       "      <td>0.034705</td>\n",
       "      <td>1</td>\n",
       "      <td>0</td>\n",
       "      <td>0</td>\n",
       "      <td>0</td>\n",
       "      <td>0</td>\n",
       "      <td>0</td>\n",
       "    </tr>\n",
       "    <tr>\n",
       "      <th>2335</th>\n",
       "      <td>Zimbabwe</td>\n",
       "      <td>2023</td>\n",
       "      <td>-2.023821</td>\n",
       "      <td>-1.522827</td>\n",
       "      <td>-0.992014</td>\n",
       "      <td>-1.386051</td>\n",
       "      <td>-0.699608</td>\n",
       "      <td>-0.296726</td>\n",
       "      <td>0.106521</td>\n",
       "      <td>1</td>\n",
       "      <td>0</td>\n",
       "      <td>0</td>\n",
       "      <td>0</td>\n",
       "      <td>0</td>\n",
       "      <td>0</td>\n",
       "    </tr>\n",
       "  </tbody>\n",
       "</table>\n",
       "<p>2336 rows × 15 columns</p>\n",
       "</div>"
      ],
      "text/plain": [
       "          Country  Year  Happiness Score  GDP per Capita  Social Support  \\\n",
       "0     Afghanistan  2008        -1.562001       -1.775583       -2.965453   \n",
       "1     Afghanistan  2009        -0.959858       -1.637479       -2.131489   \n",
       "2     Afghanistan  2010        -0.643689       -1.546279       -2.238831   \n",
       "3     Afghanistan  2011        -1.466084       -1.574942       -2.387458   \n",
       "4     Afghanistan  2012        -1.509602       -1.505456       -2.387458   \n",
       "...           ...   ...              ...             ...             ...   \n",
       "2331     Zimbabwe  2019        -2.476761       -1.473318       -0.422277   \n",
       "2332     Zimbabwe  2020        -2.062898       -1.561913       -0.769074   \n",
       "2333     Zimbabwe  2021        -2.067339       -1.508930       -1.033300   \n",
       "2334     Zimbabwe  2022        -1.942115       -1.497638       -1.190184   \n",
       "2335     Zimbabwe  2023        -2.023821       -1.522827       -0.992014   \n",
       "\n",
       "      Life Expectancy   Freedom  Generosity  Corruption  Africa  Asia  Europe  \\\n",
       "0           -1.910372 -0.235656    1.061774    0.747347       0     1       0   \n",
       "1           -1.866063 -0.518377    1.207781    0.570567       0     1       0   \n",
       "2           -1.821754 -1.091067    0.763412   -0.219416       0     1       0   \n",
       "3           -1.777445 -1.844987    1.036381   -0.086831       0     1       0   \n",
       "4           -1.733137 -1.591264    1.506143    0.161765       0     1       0   \n",
       "...               ...       ...         ...         ...     ...   ...     ...   \n",
       "2331        -1.526362 -0.859091   -0.303074    0.465604       1     0       0   \n",
       "2332        -1.456207 -0.779349    0.033377    0.233581       1     0       0   \n",
       "2333        -1.386051 -0.598118   -0.487170    0.056802       1     0       0   \n",
       "2334        -1.315896 -0.714106   -0.449081    0.034705       1     0       0   \n",
       "2335        -1.386051 -0.699608   -0.296726    0.106521       1     0       0   \n",
       "\n",
       "      North America  Oceania  South America  \n",
       "0                 0        0              0  \n",
       "1                 0        0              0  \n",
       "2                 0        0              0  \n",
       "3                 0        0              0  \n",
       "4                 0        0              0  \n",
       "...             ...      ...            ...  \n",
       "2331              0        0              0  \n",
       "2332              0        0              0  \n",
       "2333              0        0              0  \n",
       "2334              0        0              0  \n",
       "2335              0        0              0  \n",
       "\n",
       "[2336 rows x 15 columns]"
      ]
     },
     "execution_count": 63,
     "metadata": {},
     "output_type": "execute_result"
    }
   ],
   "source": [
    "happiness_merged"
   ]
  },
  {
   "cell_type": "code",
   "execution_count": 64,
   "id": "bbcdca27",
   "metadata": {},
   "outputs": [],
   "source": [
    "y=happiness_merged['Happiness Score']\n",
    "X=happiness_merged.drop(columns=['Happiness Score', 'Country'])\n",
    "X_train, X_test, y_train, y_test = train_test_split(X, y, test_size=0.2, random_state=42)\n",
    "\n",
    "#Linear Regression Model\n",
    "model_mlr=LinearRegression()\n",
    "model_mlr.fit(X_train, y_train)\n",
    "y_pred_mlr=model_mlr.predict(X_test)\n"
   ]
  },
  {
   "cell_type": "markdown",
   "id": "b4c9f9c5",
   "metadata": {},
   "source": [
    "- Model Performance Evaluation"
   ]
  },
  {
   "cell_type": "code",
   "execution_count": 65,
   "id": "26373a45",
   "metadata": {},
   "outputs": [
    {
     "name": "stdout",
     "output_type": "stream",
     "text": [
      " R² Score: 0.7441\n",
      " Mean Absolute Error (MAE): 0.3780\n",
      " Mean Squared Error (MSE): 0.2386\n"
     ]
    }
   ],
   "source": [
    "# Evaluate\n",
    "print(f\" R² Score: {r2_score(y_test, y_pred_mlr):.4f}\")\n",
    "print(f\" Mean Absolute Error (MAE): {mean_absolute_error(y_test, y_pred_mlr):.4f}\")\n",
    "print(f\" Mean Squared Error (MSE): {mean_squared_error(y_test, y_pred_mlr):.4f}\")"
   ]
  },
  {
   "cell_type": "markdown",
   "id": "866d3022",
   "metadata": {},
   "source": [
    "The multiple linear regression model demonstrated strong predictive performance:\n",
    "\n",
    "- R² Score: 0.7441 - Approximately 74.4% of the variance in happiness scores is explained by the combined predictors, indicating a good overall fit.\n",
    "\n",
    "- Mean Absolute Error (MAE): 0.3780 - On average, predictions deviate from actual happiness scores by 0.38 units, showing reasonably low error.\n",
    "\n",
    "- Mean Squared Error (MSE): 0.2386 - The low MSE further confirms model accuracy and consistency.\n",
    "\n",
    "Overall, the model performs well, especially when using multiple features together, and offers a more comprehensive explanation of happiness compared to individual predictors alone."
   ]
  },
  {
   "cell_type": "markdown",
   "id": "457e75e8",
   "metadata": {},
   "source": [
    "#### 3. Random Forest Regression"
   ]
  },
  {
   "cell_type": "code",
   "execution_count": 66,
   "id": "3984d229",
   "metadata": {},
   "outputs": [],
   "source": [
    "#Random Forest Regressor model\n",
    "y=happiness_merged['Happiness Score']\n",
    "x= happiness_merged.drop(columns='Happiness Score')\n",
    "X_train, X_test, y_train, y_test = train_test_split(X, y, random_state=42)\n",
    "model_rf=RandomForestRegressor(n_estimators=100, random_state=42)\n",
    "model_rf.fit(X_train, y_train)\n",
    "y_pred_rf=model_rf.predict(X_test)\n"
   ]
  },
  {
   "cell_type": "markdown",
   "id": "d799cdfe",
   "metadata": {},
   "source": [
    "- Model Performance Evaluation"
   ]
  },
  {
   "cell_type": "code",
   "execution_count": 67,
   "id": "6e42f2db",
   "metadata": {},
   "outputs": [
    {
     "name": "stdout",
     "output_type": "stream",
     "text": [
      " R² Score: 0.8826\n",
      " Mean Absolute Error (MAE): 0.2555\n",
      " Mean Squared Error (MSE): 0.1165\n"
     ]
    }
   ],
   "source": [
    "#Evaluate\n",
    "print(f\" R² Score: {r2_score(y_test, y_pred_rf):.4f}\")\n",
    "print(f\" Mean Absolute Error (MAE): {mean_absolute_error(y_test, y_pred_rf):.4f}\")\n",
    "print(f\" Mean Squared Error (MSE): {mean_squared_error(y_test, y_pred_rf):.4f}\")"
   ]
  },
  {
   "cell_type": "markdown",
   "id": "424f857e",
   "metadata": {},
   "source": [
    "The Random Forest model outperformed linear regression models, delivering high accuracy and low error:\n",
    "\n",
    "- R² Score: 0.8826 - The model explains approximately 88.3% of the variance in happiness scores, indicating a very strong fit.\n",
    "\n",
    "- Mean Absolute Error (MAE): 0.2555 - Predictions are, on average, only 0.26 units off from actual values — a significant improvement in precision.\n",
    "\n",
    "- Mean Squared Error (MSE): 0.1165 - The low MSE confirms the model’s high consistency and robustness.\n",
    "\n",
    "Random Forest is the best-performing model so far, capturing complex patterns and interactions in the data more effectively than linear approaches.\n",
    "\n"
   ]
  },
  {
   "cell_type": "markdown",
   "id": "412b2b0d",
   "metadata": {},
   "source": [
    "- Residual Plot"
   ]
  },
  {
   "cell_type": "code",
   "execution_count": 68,
   "id": "33e255ea",
   "metadata": {},
   "outputs": [
    {
     "data": {
      "image/png": "[encoded data removed]",
      "text/plain": [
       "<Figure size 800x600 with 1 Axes>"
      ]
     },
     "metadata": {},
     "output_type": "display_data"
    }
   ],
   "source": [
    "#residual plot\n",
    "plt.figure(figsize=(8, 6))\n",
    "plt.scatter(y_test, y_pred_rf, alpha=0.5, color='teal')\n",
    "plt.plot([y_test.min(), y_test.max()], [y_test.min(), y_test.max()], 'r--')\n",
    "plt.xlabel('Actual Happiness Score')\n",
    "plt.ylabel('Predicted Happiness Score')\n",
    "plt.title('Actual vs Predicted (Random Forest)')\n",
    "plt.tight_layout()\n",
    "plt.show()"
   ]
  },
  {
   "cell_type": "markdown",
   "id": "f5d2a1b0",
   "metadata": {},
   "source": [
    "The scatter plot displays actual vs. predicted happiness scores using the Random Forest model. Most points lie close to the red diagonal line, indicating strong agreement between predictions and true values. The tight clustering around the line confirms the model’s high accuracy and generalization, with minimal large prediction errors."
   ]
  },
  {
   "cell_type": "markdown",
   "id": "2b0f80c1",
   "metadata": {},
   "source": [
    "### Classification Models"
   ]
  },
  {
   "cell_type": "markdown",
   "id": "f33b5415",
   "metadata": {},
   "source": [
    "#### 3. Random Forest Classifier"
   ]
  },
  {
   "cell_type": "code",
   "execution_count": 69,
   "id": "23c8f95d",
   "metadata": {},
   "outputs": [],
   "source": [
    "#  Convert Happiness Score to Binary\n",
    "def binary_happiness(score):\n",
    "    if score < 0:\n",
    "        return 0  # Unhappy\n",
    "    else:\n",
    "        return 1  # Happy\n",
    "\n",
    "happiness_merged['Happiness Binary'] = happiness_merged['Happiness Score'].apply(binary_happiness)\n",
    "\n",
    "X = happiness_merged.drop(columns=['Happiness Score', 'Happiness Binary'])\n",
    "X = pd.get_dummies(X, drop_first=True)  \n",
    "y = happiness_merged['Happiness Binary']\n",
    "\n",
    "#Applying SMOTE for Class Balancing\n",
    "smote = SMOTE(random_state=42)\n",
    "X_bal, y_bal = smote.fit_resample(X, y)\n",
    "\n",
    "#Train-test split\n",
    "X_train, X_test, y_train, y_test = train_test_split(X_bal, y_bal, stratify=y_bal, random_state=42)\n",
    "\n",
    "#Train model\n",
    "model_rfc = RandomForestClassifier(n_estimators=100, random_state=42)\n",
    "model_rfc.fit(X_train, y_train)\n",
    "\n",
    "#Predict\n",
    "y_pred_rfc = model_rfc.predict(X_test)"
   ]
  },
  {
   "cell_type": "markdown",
   "id": "55bca175",
   "metadata": {},
   "source": [
    "- Model Performance Evaluation\n"
   ]
  },
  {
   "cell_type": "code",
   "execution_count": 70,
   "id": "d06d045f",
   "metadata": {},
   "outputs": [
    {
     "name": "stdout",
     "output_type": "stream",
     "text": [
      " Accuracy: 0.9334\n",
      "Classification Report:\n",
      "               precision    recall  f1-score   support\n",
      "\n",
      "           0       0.93      0.94      0.93       301\n",
      "           1       0.94      0.93      0.93       300\n",
      "\n",
      "    accuracy                           0.93       601\n",
      "   macro avg       0.93      0.93      0.93       601\n",
      "weighted avg       0.93      0.93      0.93       601\n",
      "\n"
     ]
    },
    {
     "data": {
      "text/plain": [
       "<Figure size 600x400 with 0 Axes>"
      ]
     },
     "metadata": {},
     "output_type": "display_data"
    },
    {
     "data": {
      "image/png": "[encoded data removed]",
      "text/plain": [
       "<Figure size 640x480 with 2 Axes>"
      ]
     },
     "metadata": {},
     "output_type": "display_data"
    }
   ],
   "source": [
    "accuracy = accuracy_score(y_test, y_pred_rfc)\n",
    "print(f\" Accuracy: {accuracy:.4f}\")\n",
    "print(\"Classification Report:\\n\", classification_report(y_test, y_pred_rfc))\n",
    "\n",
    "#  Confusion matrix\n",
    "plt.figure(figsize=(6, 4))\n",
    "ConfusionMatrixDisplay.from_estimator(model_rfc, X_test, y_test, cmap='Blues')\n",
    "plt.title(\"Confusion Matrix - Random Forest Classifier\")\n",
    "plt.tight_layout()\n",
    "plt.show()\n"
   ]
  },
  {
   "cell_type": "markdown",
   "id": "3f16e515",
   "metadata": {},
   "source": [
    "#### Interpretation\n",
    "- Overall Accuracy: 93.34% ->The model correctly classified 561 out of 601 instances, showing strong overall performance..\n",
    "\n",
    "- High precision and recall for both classes indicate the model performs equally well in identifying both categories.\n",
    "\n",
    "- True Negatives (283) and True Positives (278) are both high.\n",
    "\n",
    "- Only 18 false positives and 22 false negatives, indicating low misclassification.\n",
    "\n",
    "- The Random Forest Classifier is performing exceptionally well, with high precision, recall, and F1-scores. The confusion matrix supports this, showing that the model is both accurate and reliable for binary classification tasks in this context."
   ]
  },
  {
   "cell_type": "markdown",
   "id": "14b266cf",
   "metadata": {},
   "source": [
    "- ROC curve"
   ]
  },
  {
   "cell_type": "code",
   "execution_count": 71,
   "id": "2c404925",
   "metadata": {},
   "outputs": [
    {
     "data": {
      "image/png": "[encoded data removed]",
      "text/plain": [
       "<Figure size 800x600 with 1 Axes>"
      ]
     },
     "metadata": {},
     "output_type": "display_data"
    }
   ],
   "source": [
    "#predicted probabilities for class 1 (Happy)\n",
    "y_probs = model_rfc.predict_proba(X_test)[:, 1]\n",
    "\n",
    "# Compute ROC curve values\n",
    "fpr, tpr, thresholds = roc_curve(y_test, y_probs)\n",
    "auc_score = roc_auc_score(y_test, y_probs)\n",
    "\n",
    "# Plot ROC curve\n",
    "plt.figure(figsize=(8, 6))\n",
    "plt.plot(fpr, tpr, label=f'Random Forest (AUC = {auc_score:.2f})', color='darkorange', linewidth=2)\n",
    "plt.plot([0, 1], [0, 1], linestyle='--', color='blue') \n",
    "plt.xlabel('False Positive Rate')\n",
    "plt.ylabel('True Positive Rate')\n",
    "plt.title('ROC Curve - Random Forest Classifier')\n",
    "plt.legend(loc='lower right')\n",
    "plt.grid(True)\n",
    "plt.tight_layout()\n",
    "plt.show()"
   ]
  },
  {
   "cell_type": "markdown",
   "id": "f78c9409",
   "metadata": {},
   "source": [
    "The ROC curve shows the performance of the Random Forest classifier across different thresholds. The model achieves an AUC score of 0.98, indicating excellent discrimination between the two classes. The curve hugs the top-left corner, suggesting a very high true positive rate with a low false positive rate, confirming the model’s outstanding classification ability."
   ]
  },
  {
   "cell_type": "markdown",
   "id": "f27718a7",
   "metadata": {},
   "source": [
    "#### 4. Decision Trees"
   ]
  },
  {
   "cell_type": "code",
   "execution_count": 72,
   "id": "a8b34440",
   "metadata": {},
   "outputs": [
    {
     "ename": "NameError",
     "evalue": "name 'regressor_dt' is not defined",
     "output_type": "error",
     "traceback": [
      "\u001b[1;31m---------------------------------------------------------------------------\u001b[0m",
      "\u001b[1;31mNameError\u001b[0m                                 Traceback (most recent call last)",
      "Cell \u001b[1;32mIn[72], line 1\u001b[0m\n\u001b[1;32m----> 1\u001b[0m y_pred_dt \u001b[38;5;241m=\u001b[39m \u001b[43mregressor_dt\u001b[49m\u001b[38;5;241m.\u001b[39mpredict(test_set\u001b[38;5;241m.\u001b[39mdrop(columns\u001b[38;5;241m=\u001b[39m[\u001b[38;5;124m'\u001b[39m\u001b[38;5;124mHappiness.Score\u001b[39m\u001b[38;5;124m'\u001b[39m]))\n\u001b[0;32m      3\u001b[0m \u001b[38;5;66;03m# Creating a DataFrame to compare actual and predicted values\u001b[39;00m\n\u001b[0;32m      4\u001b[0m Pred_Actual_dt \u001b[38;5;241m=\u001b[39m pd\u001b[38;5;241m.\u001b[39mDataFrame({\n\u001b[0;32m      5\u001b[0m     \u001b[38;5;124m'\u001b[39m\u001b[38;5;124mPrediction\u001b[39m\u001b[38;5;124m'\u001b[39m: y_pred_dt,\n\u001b[0;32m      6\u001b[0m     \u001b[38;5;124m'\u001b[39m\u001b[38;5;124mActual\u001b[39m\u001b[38;5;124m'\u001b[39m: test_set[\u001b[38;5;124m'\u001b[39m\u001b[38;5;124mHappiness.Score\u001b[39m\u001b[38;5;124m'\u001b[39m]\n\u001b[0;32m      7\u001b[0m })\n",
      "\u001b[1;31mNameError\u001b[0m: name 'regressor_dt' is not defined"
     ]
    }
   ],
   "source": [
    "y_pred_dt = regressor_dt.predict(test_set.drop(columns=['Happiness.Score']))\n",
    "\n",
    "# Creating a DataFrame to compare actual and predicted values\n",
    "Pred_Actual_dt = pd.DataFrame({\n",
    "    'Prediction': y_pred_dt,\n",
    "    'Actual': test_set['Happiness.Score']\n",
    "})\n",
    "\n",
    "# Plotting the predicted vs actual values\n",
    "plt.figure(figsize=(8, 6))\n",
    "plt.scatter(Pred_Actual_dt['Actual'], Pred_Actual_dt['Prediction'])\n",
    "plt.plot([Pred_Actual_dt['Actual'].min(), Pred_Actual_dt['Actual'].max()],\n",
    "         [Pred_Actual_dt['Actual'].min(), Pred_Actual_dt['Actual'].max()],\n",
    "         color='red', lw=2)  # The line representing perfect prediction\n",
    "plt.title(\"Decision Tree Regression\")\n",
    "plt.xlabel(\"Actual happiness score\")\n",
    "plt.ylabel(\"Predicted happiness score\")\n",
    "plt.grid(True)\n",
    "plt.show()\n",
    "\n",
    "# Plotting the decision tree itself using plot_tree from sklearn\n",
    "from sklearn.tree import plot_tree\n",
    "plt.figure(figsize=(20, 10))\n",
    "plot_tree(regressor_dt, filled=True, feature_names=test_set.drop(columns=['Happiness.Score']).columns)\n",
    "plt.show()"
   ]
  },
  {
   "cell_type": "markdown",
   "id": "3805f4b1",
   "metadata": {},
   "source": [
    "### Clustering Models"
   ]
  },
  {
   "cell_type": "markdown",
   "id": "73840e6f",
   "metadata": {},
   "source": [
    "#### 5. K-Means"
   ]
  },
  {
   "cell_type": "code",
   "execution_count": null,
   "id": "c4cd46de",
   "metadata": {},
   "outputs": [],
   "source": []
  },
  {
   "cell_type": "markdown",
   "id": "b380c35a",
   "metadata": {},
   "source": [
    "#### 6. K-Nearest Neighbors (KNN)"
   ]
  },
  {
   "cell_type": "code",
   "execution_count": null,
   "id": "abb29cbb",
   "metadata": {},
   "outputs": [],
   "source": []
  },
  {
   "cell_type": "markdown",
   "id": "f1d68292",
   "metadata": {},
   "source": [
    "## Conclusions"
   ]
  }
 ],
 "metadata": {
  "kernelspec": {
   "display_name": "CSCN8010_classical_ml",
   "language": "python",
   "name": "python3"
  },
  "language_info": {
   "codemirror_mode": {
    "name": "ipython",
    "version": 3
   },
   "file_extension": ".py",
   "mimetype": "text/x-python",
   "name": "python",
   "nbconvert_exporter": "python",
   "pygments_lexer": "ipython3",
   "version": "3.11.9"
  }
 },
 "nbformat": 4,
 "nbformat_minor": 5
}
